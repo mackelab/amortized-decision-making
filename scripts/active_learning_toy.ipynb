{
 "cells": [
  {
   "cell_type": "markdown",
   "metadata": {},
   "source": [
    "## Active Learning"
   ]
  },
  {
   "cell_type": "code",
   "execution_count": 1,
   "metadata": {},
   "outputs": [],
   "source": [
    "%load_ext autoreload\n",
    "%autoreload 2"
   ]
  },
  {
   "cell_type": "code",
   "execution_count": 2,
   "metadata": {},
   "outputs": [
    {
     "data": {
      "text/plain": [
       "'0.18.0'"
      ]
     },
     "execution_count": 2,
     "metadata": {},
     "output_type": "execute_result"
    }
   ],
   "source": [
    "import sbi\n",
    "sbi.__version__"
   ]
  },
  {
   "cell_type": "code",
   "execution_count": 3,
   "metadata": {},
   "outputs": [],
   "source": [
    "import torch\n",
    "from torch import ones, zeros, eye\n",
    "\n",
    "from sbi.inference import SNLE, SNPE\n",
    "from sbi.utils import BoxUniform\n",
    "from sbi.utils.torchutils import atleast_2d\n",
    "from sbi.analysis import pairplot\n",
    "from sbi.inference import MCMCPosterior, RejectionPosterior, VIPosterior\n",
    "from sbi.utils import mcmc_transform\n",
    "from sbi.inference.potentials.base_potential import BasePotential\n",
    "\n",
    "from copy import deepcopy\n",
    "\n",
    "import matplotlib.pyplot as plt\n",
    "\n",
    "from loss_calibration.loss import StepLoss_weighted, SigmoidLoss_weighted\n",
    "import loss_calibration.toy_example as toy"
   ]
  },
  {
   "cell_type": "markdown",
   "metadata": {},
   "source": [
    "Prior and Simulator"
   ]
  },
  {
   "cell_type": "code",
   "execution_count": 4,
   "metadata": {},
   "outputs": [],
   "source": [
    "prior = toy.get_prior()\n",
    "sim = toy.get_simulator()\n"
   ]
  },
  {
   "cell_type": "markdown",
   "metadata": {},
   "source": [
    "Define a potential"
   ]
  },
  {
   "cell_type": "code",
   "execution_count": 5,
   "metadata": {},
   "outputs": [],
   "source": [
    "class AcquisitionPotential(BasePotential):\n",
    "    allow_iid_x = False\n",
    "    def __init__(self, prior, x_o, device=\"cpu\"):\n",
    "        super().__init__(prior, x_o, device=device)\n",
    "    \n",
    "    def __call__(self, theta, track_gradients=True):\n",
    "        with torch.set_grad_enabled(track_gradients):\n",
    "            return torch.log(acquisition_fn(theta))\n"
   ]
  },
  {
   "cell_type": "markdown",
   "metadata": {},
   "source": [
    "Define a cost function and an acquisition function"
   ]
  },
  {
   "cell_type": "code",
   "execution_count": 6,
   "metadata": {},
   "outputs": [],
   "source": [
    "#cost_fn = StepLoss_weighted([2,1], 0.)    # ! torch.gt breaks backward pass of gradients\n",
    "threshold = 2.0\n",
    "threshold_dim = 0\n",
    "costs = [5,1]\n",
    "cost_fn = SigmoidLoss_weighted(costs, threshold)"
   ]
  },
  {
   "cell_type": "code",
   "execution_count": 7,
   "metadata": {},
   "outputs": [],
   "source": [
    "num_monte_carlo_samples_likelihood = 20\n",
    "num_monte_carlo_samples_posterior = 1"
   ]
  },
  {
   "cell_type": "code",
   "execution_count": 8,
   "metadata": {},
   "outputs": [],
   "source": [
    "def acquisition_fn(theta_0):\n",
    "    theta_0 = atleast_2d(theta_0)\n",
    "    # 1.sample from likelihood\n",
    "    predicted_x = likelihood_estimator.sample(num_monte_carlo_samples_likelihood, context=theta_0) \n",
    "    predicted_theta_given_x = []\n",
    "    # 2. for each sampled x, sample from the posterior\n",
    "    for px in predicted_x.swapaxes(0,1):\n",
    "        predicted_theta_given_x.append(posterior_estimator.sample(num_monte_carlo_samples_posterior, context=px))\n",
    "    predicted_theta_given_x = torch.cat(predicted_theta_given_x, dim=1) \n",
    "    # 3. calculate associated cost\n",
    "    predicted_decision = (predicted_theta_given_x > threshold).float()\n",
    "    estimated_cost = cost_fn(theta_0[:,threshold_dim].unsqueeze(1).repeat(1,num_monte_carlo_samples_likelihood), predicted_decision[:,:,threshold_dim])\n",
    "    return estimated_cost.mean(dim=1)"
   ]
  },
  {
   "cell_type": "code",
   "execution_count": 9,
   "metadata": {},
   "outputs": [
    {
     "name": "stdout",
     "output_type": "stream",
     "text": [
      "\n",
      "----- ROUND 0 -----\n"
     ]
    },
    {
     "name": "stderr",
     "output_type": "stream",
     "text": [
      "/Users/mgorecki/Documents/Studium/Master/5.Semester/Masterarbeit/sbi_v0_18_0/sbi/neural_nets/flow.py:141: UserWarning: In one-dimensional output space, this flow is limited to Gaussians\n",
      "  warn(\"In one-dimensional output space, this flow is limited to Gaussians\")\n"
     ]
    },
    {
     "name": "stdout",
     "output_type": "stream",
     "text": [
      " Training neural network. Epochs trained: 101\n",
      "\n",
      "build_maf\n",
      " Training neural network. Epochs trained: 101\n",
      "----- ROUND 1 -----\n"
     ]
    },
    {
     "name": "stderr",
     "output_type": "stream",
     "text": [
      "Drawing 1000 posterior samples: 1358it [00:06, 216.42it/s]                         \n"
     ]
    },
    {
     "name": "stdout",
     "output_type": "stream",
     "text": [
      " Neural network successfully converged after 28 epochs.\n",
      "\n",
      "Using SNPE-C with atomic loss\n",
      " Neural network successfully converged after 30 epochs.\n",
      "----- ROUND 2 -----\n"
     ]
    },
    {
     "name": "stderr",
     "output_type": "stream",
     "text": [
      "Drawing 1000 posterior samples: 1098it [00:11, 95.69it/s]                         \n"
     ]
    },
    {
     "name": "stdout",
     "output_type": "stream",
     "text": [
      " Neural network successfully converged after 27 epochs.\n",
      "\n",
      "Using SNPE-C with atomic loss\n",
      " Neural network successfully converged after 55 epochs.\n",
      "----- ROUND 3 -----\n"
     ]
    },
    {
     "name": "stderr",
     "output_type": "stream",
     "text": [
      "Drawing 1000 posterior samples: 1103it [00:06, 176.00it/s]                         \n"
     ]
    },
    {
     "name": "stdout",
     "output_type": "stream",
     "text": [
      " Neural network successfully converged after 26 epochs.\n",
      "\n",
      "Using SNPE-C with atomic loss\n",
      " Neural network successfully converged after 35 epochs.\n",
      "----- ROUND 4 -----\n"
     ]
    },
    {
     "name": "stderr",
     "output_type": "stream",
     "text": [
      "Drawing 1000 posterior samples: 1071it [00:08, 123.85it/s]                        \n"
     ]
    },
    {
     "name": "stdout",
     "output_type": "stream",
     "text": [
      " Neural network successfully converged after 55 epochs.\n",
      "\n",
      "Using SNPE-C with atomic loss\n",
      " Neural network successfully converged after 35 epochs."
     ]
    }
   ],
   "source": [
    "n_rounds = 5#10\n",
    "proposal = prior\n",
    "\n",
    "# inference objects\n",
    "inference_likelihood = SNLE(prior)\n",
    "inference_posterior = SNPE(prior)\n",
    "\n",
    "proposals = []\n",
    "likelihood_estimators = []\n",
    "posterior_estimators = []\n",
    "\n",
    "for r in range(n_rounds): # rounds\n",
    "    print(f'\\n----- ROUND {r} -----')\n",
    "    theta = proposal.sample((1000,))\n",
    "    x = sim(theta)\n",
    "    # train both SNLE and SNPE\n",
    "    likelihood_estimator = inference_likelihood.append_simulations(theta, x).train(max_num_epochs=100)\n",
    "    print('\\n')\n",
    "    posterior_estimator = inference_posterior.append_simulations(theta, x, proposal=proposal).train(max_num_epochs=100)\n",
    "\n",
    "    potential = AcquisitionPotential(prior, x_o=zeros(1, x.shape[1]), device=\"cpu\")\n",
    "    #prior_tf = mcmc_transform(prior)\n",
    "    #acquisition_sampler = VIPosterior(potential_fn=potential, prior=prior, q='maf', theta_transform= mcmc_transform(prior), vi_method='fKL').train()\n",
    "    #acquisition_sampler = MCMCPosterior(potential_fn=potential, theta_transform=prior_tf, proposal=prior, init_strategy=\"proposal\", method=\"slice_np_vectorized\", num_chains=100)\n",
    "    acquisition_sampler = RejectionPosterior(potential_fn=potential, proposal=prior)\n",
    "    proposal = acquisition_sampler\n",
    "\n",
    "    likelihood_estimators.append(deepcopy(likelihood_estimator))\n",
    "    posterior_estimators.append(deepcopy(posterior_estimator))\n",
    "    proposals.append(deepcopy(proposal))\n",
    "    torch.save(theta, f\"./results/toy_example/active_learning/round{r}_sampled_theta.pt\")\n",
    "    torch.save(proposal, f\"./results/toy_example/active_learning/round{r}_proposal.pt\")\n",
    "    torch.save(likelihood_estimator, f\"./results/toy_example/active_learning/round{r}_likelihood_estimator.pt\")\n",
    "    torch.save(posterior_estimator, f\"./results/toy_example/active_learning/round{r}_posterior_estimator.pt\")"
   ]
  },
  {
   "cell_type": "code",
   "execution_count": 10,
   "metadata": {},
   "outputs": [
    {
     "name": "stderr",
     "output_type": "stream",
     "text": [
      "Drawing 1000 posterior samples: 1036it [00:06, 157.41it/s]                         \n"
     ]
    }
   ],
   "source": [
    "n_samples_proposal = 1000\n",
    "samples_proposal = proposal.sample((n_samples_proposal,))\n",
    "samples_prior = prior.sample((10,))"
   ]
  },
  {
   "cell_type": "code",
   "execution_count": 11,
   "metadata": {},
   "outputs": [],
   "source": [
    "torch.save(samples_proposal, f\"./results/toy_example/active_learning/round{r+1}_sampled_theta.pt\")"
   ]
  },
  {
   "cell_type": "code",
   "execution_count": 12,
   "metadata": {},
   "outputs": [],
   "source": [
    "thetas_linspace = torch.linspace(prior.base_dist.low.item(),prior.base_dist.high.item(),1000).unsqueeze(1)\n",
    "n_potentials = 50\n",
    "potential_thetas_linspace = torch.stack([potential(thetas_linspace) for _ in range(n_potentials)])\n",
    "# potential_thetas_linspace = torch.cat([torch.stack([potential(th) for th in thetas_linspace], dim=1) for r in range(n_potential)])"
   ]
  },
  {
   "cell_type": "code",
   "execution_count": 13,
   "metadata": {},
   "outputs": [
    {
     "data": {
      "image/png": "[encoded data removed]",
      "text/plain": [
       "<Figure size 360x216 with 1 Axes>"
      ]
     },
     "metadata": {
      "needs_background": "light"
     },
     "output_type": "display_data"
    }
   ],
   "source": [
    "fig, ax = plt.subplots(1,1, figsize = (5,3), constrained_layout=True)\n",
    "ax.plot(thetas_linspace.numpy(), potential_thetas_linspace[0].exp().numpy())\n",
    "ax.vlines(threshold, ymin=0.0, ymax=max(potential_thetas_linspace[0].exp())+0.05, color='r')\n",
    "ax.set_ylabel('potential')\n",
    "ax.set_xlabel(r'$\\theta$')\n",
    "ax.set_title(\"Single potential evaluated on linspace\")\n",
    "fig.savefig(\"./results/toy_example/active_learning/single_potential.pdf\")"
   ]
  },
  {
   "cell_type": "code",
   "execution_count": 14,
   "metadata": {},
   "outputs": [
    {
     "data": {
      "text/plain": [
       "Text(0.5, 0, '$\\\\theta$')"
      ]
     },
     "execution_count": 14,
     "metadata": {},
     "output_type": "execute_result"
    },
    {
     "data": {
      "image/png": "[encoded data removed]",
      "text/plain": [
       "<Figure size 360x216 with 1 Axes>"
      ]
     },
     "metadata": {
      "needs_background": "light"
     },
     "output_type": "display_data"
    }
   ],
   "source": [
    "mean_potential = potential_thetas_linspace.exp().mean(dim=0)\n",
    "std_potential = potential_thetas_linspace.exp().std(dim=0)\n",
    "\n",
    "fig, ax = plt.subplots(1,1, figsize = (5,3), constrained_layout=True)\n",
    "ax.plot(thetas_linspace.squeeze(), mean_potential)\n",
    "ax.fill_between(thetas_linspace.squeeze().numpy(), (mean_potential-std_potential).numpy(), (mean_potential+std_potential).numpy(), alpha=0.2)\n",
    "ax.vlines(threshold, ymin=-0.05, ymax=max(mean_potential+std_potential)+0.05, color='r')\n",
    "ax.set_ylabel('potential')\n",
    "ax.set_xlabel(r'$\\theta$')\n",
    "#ax.set_title(f\"Mean and std over {n_potential} potentials evaluated on linspace\")\n",
    "#fig.savefig(\"./results/active_learning/toy_example_potential.pdf\")"
   ]
  },
  {
   "cell_type": "code",
   "execution_count": 15,
   "metadata": {},
   "outputs": [],
   "source": [
    "potentials_samples_proposal = potential(samples_proposal).exp()"
   ]
  },
  {
   "cell_type": "code",
   "execution_count": 16,
   "metadata": {},
   "outputs": [
    {
     "data": {
      "image/png": "[encoded data removed]",
      "text/plain": [
       "<Figure size 360x216 with 1 Axes>"
      ]
     },
     "metadata": {
      "needs_background": "light"
     },
     "output_type": "display_data"
    }
   ],
   "source": [
    "fig, ax = plt.subplots(1,1, figsize = (5,3), constrained_layout=True)\n",
    "ax.hist(potentials_samples_proposal.numpy())\n",
    "ax.set_xlabel('potential')\n",
    "ax.set_ylabel('frequency')\n",
    "#ax.set_title(f\"Histogram over potentials of {n_samples_proposal} samples from the proposal\")\n",
    "#fig.savefig(\"./results/active_learning/toy_example_potential_histogram.pdf\")\n",
    "plt.show()\n"
   ]
  },
  {
   "cell_type": "code",
   "execution_count": 17,
   "metadata": {},
   "outputs": [
    {
     "data": {
      "image/png": "[encoded data removed]",
      "text/plain": [
       "<Figure size 360x216 with 1 Axes>"
      ]
     },
     "metadata": {
      "needs_background": "light"
     },
     "output_type": "display_data"
    }
   ],
   "source": [
    "fig, ax = plt.subplots(1,1, figsize = (5,3), constrained_layout=True)\n",
    "ax.hist(torch.round(samples_proposal, decimals=2).numpy(), bins=50)\n",
    "ax.set_xlabel('sample')\n",
    "ax.set_ylabel('frequency')\n",
    "#ax.set_title(f\"Histogram over {n_samples_proposal} samples from the proposal\")\n",
    "#fig.savefig(\"./results/active_learning/toy_example_potential_samples_proposal.pdf\")\n",
    "plt.show()"
   ]
  },
  {
   "cell_type": "code",
   "execution_count": 18,
   "metadata": {},
   "outputs": [
    {
     "data": {
      "text/plain": [
       "Text(0, 0.5, 'potential')"
      ]
     },
     "execution_count": 18,
     "metadata": {},
     "output_type": "execute_result"
    },
    {
     "data": {
      "image/png": "[encoded data removed]",
      "text/plain": [
       "<Figure size 360x216 with 1 Axes>"
      ]
     },
     "metadata": {
      "needs_background": "light"
     },
     "output_type": "display_data"
    }
   ],
   "source": [
    "fig, ax = plt.subplots(1,1, figsize = (5,3), constrained_layout=True)\n",
    "ax.scatter(samples_proposal, potentials_samples_proposal, alpha=0.4)\n",
    "ax.set_xlabel('sample')\n",
    "ax.set_ylabel('potential')"
   ]
  },
  {
   "cell_type": "code",
   "execution_count": null,
   "metadata": {},
   "outputs": [],
   "source": []
  }
 ],
 "metadata": {
  "kernelspec": {
   "display_name": "Python 3.9.7 ('mthesis')",
   "language": "python",
   "name": "python3"
  },
  "language_info": {
   "codemirror_mode": {
    "name": "ipython",
    "version": 3
   },
   "file_extension": ".py",
   "mimetype": "text/x-python",
   "name": "python",
   "nbconvert_exporter": "python",
   "pygments_lexer": "ipython3",
   "version": "3.9.7"
  },
  "orig_nbformat": 4,
  "vscode": {
   "interpreter": {
    "hash": "06960cd18a53001e07e7b62cc42eb3f51084fa348611365b68962d25c7d940d1"
   }
  }
 },
 "nbformat": 4,
 "nbformat_minor": 2
}
