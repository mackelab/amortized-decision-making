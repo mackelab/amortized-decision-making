{
 "cells": [
  {
   "cell_type": "markdown",
   "metadata": {},
   "source": [
    "## Active Learning"
   ]
  },
  {
   "cell_type": "code",
   "execution_count": 1,
   "metadata": {},
   "outputs": [],
   "source": [
    "%load_ext autoreload\n",
    "%autoreload 2"
   ]
  },
  {
   "cell_type": "code",
   "execution_count": 2,
   "metadata": {},
   "outputs": [
    {
     "data": {
      "text/plain": [
       "'0.18.0'"
      ]
     },
     "execution_count": 2,
     "metadata": {},
     "output_type": "execute_result"
    }
   ],
   "source": [
    "import sbi\n",
    "sbi.__version__"
   ]
  },
  {
   "cell_type": "code",
   "execution_count": 3,
   "metadata": {},
   "outputs": [],
   "source": [
    "import torch\n",
    "from torch import ones, zeros, eye\n",
    "\n",
    "from sbi.inference import SNLE, SNPE\n",
    "from sbi.utils import BoxUniform\n",
    "from sbi.utils.torchutils import atleast_2d\n",
    "from sbi.analysis import pairplot\n",
    "from sbi.inference import MCMCPosterior, RejectionPosterior, VIPosterior\n",
    "from sbi.utils import mcmc_transform\n",
    "from sbi.inference.potentials.base_potential import BasePotential\n",
    "\n",
    "from copy import deepcopy\n",
    "\n",
    "import matplotlib.pyplot as plt\n",
    "\n",
    "from loss_calibration.loss import StepLoss_weighted, SigmoidLoss_weighted"
   ]
  },
  {
   "cell_type": "markdown",
   "metadata": {},
   "source": [
    "Prior and Simulator"
   ]
  },
  {
   "cell_type": "code",
   "execution_count": 4,
   "metadata": {},
   "outputs": [],
   "source": [
    "prior =BoxUniform([-1], [1])\n",
    "def sim(theta):\n",
    "    return theta + torch.randn(theta.shape) * 0.2"
   ]
  },
  {
   "cell_type": "markdown",
   "metadata": {},
   "source": [
    "Define a potential"
   ]
  },
  {
   "cell_type": "code",
   "execution_count": 5,
   "metadata": {},
   "outputs": [],
   "source": [
    "class AcquisitionPotential(BasePotential):\n",
    "    allow_iid_x = False\n",
    "    def __init__(self, prior, x_o, device=\"cpu\"):\n",
    "        super().__init__(prior, x_o, device=device)\n",
    "    \n",
    "    def __call__(self, theta, track_gradients=True):\n",
    "        with torch.set_grad_enabled(track_gradients):\n",
    "            return torch.log(acquisition_fn(theta))\n"
   ]
  },
  {
   "cell_type": "markdown",
   "metadata": {},
   "source": [
    "Define a cost function and an acquisition function"
   ]
  },
  {
   "cell_type": "code",
   "execution_count": 6,
   "metadata": {},
   "outputs": [],
   "source": [
    "#cost_fn = StepLoss_weighted([2,1], 0.)    # ! torch.gt breaks backward pass of gradients\n",
    "cost_fn = SigmoidLoss_weighted([2,1], 0.)"
   ]
  },
  {
   "cell_type": "code",
   "execution_count": 7,
   "metadata": {},
   "outputs": [],
   "source": [
    "num_monte_carlo_samples_likelihood = 20\n",
    "num_monte_carlo_samples_posterior = 1"
   ]
  },
  {
   "cell_type": "code",
   "execution_count": 8,
   "metadata": {},
   "outputs": [],
   "source": [
    "# cost/acquisition fun without batches\n",
    "\n",
    "# def cost_fn(true_theta, sampled_theta):\n",
    "#     costs = []\n",
    "#     for s in sampled_theta:\n",
    "#         if true_theta[0, 0] < 0.0:\n",
    "#             if s[0] < 0.0:\n",
    "#                 costs.append(torch.tensor([0.01]))\n",
    "#             else:\n",
    "#                 costs.append(torch.tensor([1.0]))\n",
    "#         else:\n",
    "#             if s[0] > 0.0:\n",
    "#                 costs.append(torch.tensor([0.01]))\n",
    "#             else:\n",
    "#                 costs.append(torch.tensor([1.0]))\n",
    "#     return torch.cat(costs)\n",
    "\n",
    "# def acquisition_fn(theta_0):\n",
    "#         predicted_x = likelihood_estimator.sample(num_monte_carlo_samples_likelihood, context=theta_0)[0] \n",
    "#         predicted_theta_given_x = []\n",
    "#         for px in predicted_x: #lässt sich der loop eliminieren?\n",
    "#             predicted_theta_given_x.append(posterior_estimator.sample(num_monte_carlo_samples_posterior, context=px.unsqueeze(0))[0])\n",
    "#         predicted_theta_given_x = torch.cat(predicted_theta_given_x)\n",
    "#         predicted_decision = (predicted_theta_given_x > 0.).float()\n",
    "#         estimated_cost = cost_fn(theta_0[:,0], predicted_decision[:,0])\n",
    "#         #estimated_cost = cost_fn(theta_0, predicted_theta_given_x)\n",
    "#         return estimated_cost.mean()"
   ]
  },
  {
   "cell_type": "code",
   "execution_count": 9,
   "metadata": {},
   "outputs": [],
   "source": [
    "def acquisition_fn(theta_0):\n",
    "    theta_0 = atleast_2d(theta_0)\n",
    "    # 1.sample from likelihood\n",
    "    predicted_x = likelihood_estimator.sample(num_monte_carlo_samples_likelihood, context=theta_0) \n",
    "    predicted_theta_given_x = []\n",
    "    # 2. for each sampled x, sample from the posterior\n",
    "    for px in predicted_x.swapaxes(0,1):\n",
    "        predicted_theta_given_x.append(posterior_estimator.sample(num_monte_carlo_samples_posterior, context=px))\n",
    "    predicted_theta_given_x = torch.cat(predicted_theta_given_x, dim=1) \n",
    "    # 3. calculate associated cost\n",
    "    predicted_decision = (predicted_theta_given_x > 0.).float()\n",
    "    decisiom_dim=0\n",
    "    estimated_cost = cost_fn(theta_0[:,decisiom_dim].unsqueeze(1).repeat(1,num_monte_carlo_samples_likelihood), predicted_decision[:,:,decisiom_dim])\n",
    "    return estimated_cost.mean(dim=1)"
   ]
  },
  {
   "cell_type": "code",
   "execution_count": 10,
   "metadata": {},
   "outputs": [
    {
     "name": "stdout",
     "output_type": "stream",
     "text": [
      "\n",
      "----- ROUND 0 -----\n"
     ]
    },
    {
     "name": "stderr",
     "output_type": "stream",
     "text": [
      "/Users/mgorecki/Documents/Studium/Master/5.Semester/Masterarbeit/sbi_v0_18_0/sbi/neural_nets/flow.py:141: UserWarning: In one-dimensional output space, this flow is limited to Gaussians\n",
      "  warn(\"In one-dimensional output space, this flow is limited to Gaussians\")\n"
     ]
    },
    {
     "name": "stdout",
     "output_type": "stream",
     "text": [
      " Neural network successfully converged after 33 epochs.\n",
      "\n",
      " Neural network successfully converged after 60 epochs.\n",
      "----- ROUND 1 -----\n"
     ]
    },
    {
     "name": "stderr",
     "output_type": "stream",
     "text": [
      "Drawing 1000 posterior samples: 1039it [00:06, 162.44it/s]                         \n"
     ]
    },
    {
     "name": "stdout",
     "output_type": "stream",
     "text": [
      " Neural network successfully converged after 50 epochs.\n",
      "\n",
      "Using SNPE-C with atomic loss\n",
      " Neural network successfully converged after 28 epochs.\n",
      "----- ROUND 2 -----\n"
     ]
    },
    {
     "name": "stderr",
     "output_type": "stream",
     "text": [
      "Drawing 1000 posterior samples: 1046it [00:05, 198.11it/s]                         \n"
     ]
    },
    {
     "name": "stdout",
     "output_type": "stream",
     "text": [
      " Neural network successfully converged after 24 epochs.\n",
      "\n",
      "Using SNPE-C with atomic loss\n",
      " Neural network successfully converged after 38 epochs.\n",
      "----- ROUND 3 -----\n"
     ]
    },
    {
     "name": "stderr",
     "output_type": "stream",
     "text": [
      "Drawing 1000 posterior samples: 1127it [00:04, 250.22it/s]                         \n"
     ]
    },
    {
     "name": "stdout",
     "output_type": "stream",
     "text": [
      " Neural network successfully converged after 45 epochs.\n",
      "\n",
      "Using SNPE-C with atomic loss\n",
      " Neural network successfully converged after 40 epochs.\n",
      "----- ROUND 4 -----\n"
     ]
    },
    {
     "name": "stderr",
     "output_type": "stream",
     "text": [
      "Drawing 1000 posterior samples: 1087it [00:03, 286.47it/s]                         \n"
     ]
    },
    {
     "name": "stdout",
     "output_type": "stream",
     "text": [
      " Neural network successfully converged after 85 epochs.\n",
      "\n",
      "Using SNPE-C with atomic loss\n",
      " Neural network successfully converged after 50 epochs.\n",
      "----- ROUND 5 -----\n"
     ]
    },
    {
     "name": "stderr",
     "output_type": "stream",
     "text": [
      "Drawing 1000 posterior samples: 1022it [00:04, 231.51it/s]                        \n"
     ]
    },
    {
     "name": "stdout",
     "output_type": "stream",
     "text": [
      " Neural network successfully converged after 33 epochs.\n",
      "\n",
      "Using SNPE-C with atomic loss\n",
      " Neural network successfully converged after 35 epochs.\n",
      "----- ROUND 6 -----\n"
     ]
    },
    {
     "name": "stderr",
     "output_type": "stream",
     "text": [
      "Drawing 1000 posterior samples: 1035it [00:11, 90.60it/s]                         \n"
     ]
    },
    {
     "name": "stdout",
     "output_type": "stream",
     "text": [
      " Neural network successfully converged after 21 epochs.\n",
      "\n",
      "Using SNPE-C with atomic loss\n",
      " Neural network successfully converged after 32 epochs.\n",
      "----- ROUND 7 -----\n"
     ]
    },
    {
     "name": "stderr",
     "output_type": "stream",
     "text": [
      "Drawing 1000 posterior samples: 1078it [00:04, 235.27it/s]                        \n"
     ]
    },
    {
     "name": "stdout",
     "output_type": "stream",
     "text": [
      " Neural network successfully converged after 24 epochs.\n",
      "\n",
      "Using SNPE-C with atomic loss\n",
      " Neural network successfully converged after 27 epochs.\n",
      "----- ROUND 8 -----\n"
     ]
    },
    {
     "name": "stderr",
     "output_type": "stream",
     "text": [
      "Drawing 1000 posterior samples: 1051it [00:06, 156.59it/s]                        \n"
     ]
    },
    {
     "name": "stdout",
     "output_type": "stream",
     "text": [
      " Neural network successfully converged after 50 epochs.\n",
      "\n",
      "Using SNPE-C with atomic loss\n",
      " Neural network successfully converged after 36 epochs.\n",
      "----- ROUND 9 -----\n"
     ]
    },
    {
     "name": "stderr",
     "output_type": "stream",
     "text": [
      "Drawing 1000 posterior samples: 1013it [00:05, 195.72it/s]                         \n"
     ]
    },
    {
     "name": "stdout",
     "output_type": "stream",
     "text": [
      " Neural network successfully converged after 27 epochs.\n",
      "\n",
      "Using SNPE-C with atomic loss\n",
      " Neural network successfully converged after 37 epochs."
     ]
    }
   ],
   "source": [
    "n_rounds = 10\n",
    "proposal = prior\n",
    "\n",
    "# inference objects\n",
    "inference_likelihood = SNLE(prior)\n",
    "inference_posterior = SNPE(prior)\n",
    "\n",
    "proposals = []\n",
    "likelihood_estimators = []\n",
    "posterior_estimators = []\n",
    "\n",
    "for r in range(n_rounds): # rounds\n",
    "    print(f'\\n----- ROUND {r} -----')\n",
    "    theta = proposal.sample((1000,))\n",
    "    x = sim(theta)\n",
    "    # train both SNLE and SNPE\n",
    "    likelihood_estimator = inference_likelihood.append_simulations(theta, x).train(max_num_epochs=100)\n",
    "    print('\\n')\n",
    "    posterior_estimator = inference_posterior.append_simulations(theta, x, proposal=proposal).train(max_num_epochs=100)\n",
    "\n",
    "    potential = AcquisitionPotential(prior, x_o=zeros(1, 2), device=\"cpu\")\n",
    "    #prior_tf = mcmc_transform(prior)\n",
    "    #acquisition_sampler = VIPosterior(potential_fn=potential, prior=prior, q='maf', theta_transform= mcmc_transform(prior), vi_method='fKL').train()\n",
    "    #acquisition_sampler = MCMCPosterior(potential_fn=potential, theta_transform=prior_tf, proposal=prior, init_strategy=\"proposal\", method=\"slice_np_vectorized\", num_chains=100)\n",
    "    acquisition_sampler = RejectionPosterior(potential_fn=potential, proposal=prior)\n",
    "    proposal = acquisition_sampler\n",
    "\n",
    "    likelihood_estimators.append(deepcopy(likelihood_estimator))\n",
    "    posterior_estimators.append(deepcopy(posterior_estimator))\n",
    "    proposals.append(deepcopy(proposal))"
   ]
  },
  {
   "cell_type": "code",
   "execution_count": 11,
   "metadata": {},
   "outputs": [
    {
     "name": "stderr",
     "output_type": "stream",
     "text": [
      "Drawing 1000 posterior samples: 1030it [00:04, 245.56it/s]                        \n"
     ]
    }
   ],
   "source": [
    "n_samples_proposal = 1000\n",
    "samples_proposal = proposal.sample((n_samples_proposal,))\n",
    "samples_prior = prior.sample((10,))"
   ]
  },
  {
   "cell_type": "code",
   "execution_count": 12,
   "metadata": {},
   "outputs": [],
   "source": [
    "thetas_linspace = torch.linspace(-1,1,500)\n",
    "n_potential = 50\n",
    "potential_thetas_linspace = torch.cat([torch.stack([potential(th) for th in thetas_linspace], dim=1) for r in range(n_potential)])"
   ]
  },
  {
   "cell_type": "code",
   "execution_count": 13,
   "metadata": {},
   "outputs": [
    {
     "data": {
      "text/plain": [
       "torch.Size([500])"
      ]
     },
     "execution_count": 13,
     "metadata": {},
     "output_type": "execute_result"
    }
   ],
   "source": [
    "single_potential_thetas_linspace = torch.cat([potential(th) for th in thetas_linspace])\n",
    "single_potential_thetas_linspace.shape"
   ]
  },
  {
   "cell_type": "code",
   "execution_count": 14,
   "metadata": {},
   "outputs": [
    {
     "data": {
      "image/png": "[encoded data removed]",
      "text/plain": [
       "<Figure size 360x216 with 1 Axes>"
      ]
     },
     "metadata": {
      "needs_background": "light"
     },
     "output_type": "display_data"
    }
   ],
   "source": [
    "fig, ax = plt.subplots(1,1, figsize = (5,3), constrained_layout=True)\n",
    "ax.plot(thetas_linspace.numpy(), single_potential_thetas_linspace.exp().numpy())\n",
    "ax.vlines(0.0, ymin=-0.05, ymax=max(single_potential_thetas_linspace)+0.05, color='r')\n",
    "ax.set_ylabel('potential')\n",
    "ax.set_xlabel(r'$\\theta$')\n",
    "ax.set_title(\"Single potential evaluated on linspace\")\n",
    "fig.savefig(\"./results/active_learning/toy_example_single_potential.jpg\")"
   ]
  },
  {
   "cell_type": "code",
   "execution_count": 15,
   "metadata": {},
   "outputs": [
    {
     "data": {
      "image/png": "[encoded data removed]",
      "text/plain": [
       "<Figure size 360x216 with 1 Axes>"
      ]
     },
     "metadata": {
      "needs_background": "light"
     },
     "output_type": "display_data"
    }
   ],
   "source": [
    "mean_potential = potential_thetas_linspace.exp().mean(dim=0)\n",
    "std_potential = potential_thetas_linspace.exp().std(dim=0)\n",
    "\n",
    "fig, ax = plt.subplots(1,1, figsize = (5,3), constrained_layout=True)\n",
    "ax.plot(thetas_linspace, mean_potential)\n",
    "ax.fill_between(thetas_linspace.numpy(), (mean_potential-std_potential).numpy(), (mean_potential+std_potential).numpy(), alpha=0.2)\n",
    "ax.vlines(0.0, ymin=-0.05, ymax=max(mean_potential+std_potential)+0.05, color='r')\n",
    "ax.set_ylabel('potential')\n",
    "ax.set_xlabel(r'$\\theta$')\n",
    "ax.set_title(f\"Mean and std over {n_potential} potentials evaluated on linspace\")\n",
    "fig.savefig(\"./results/active_learning/toy_example_potential.jpg\")"
   ]
  },
  {
   "cell_type": "code",
   "execution_count": 16,
   "metadata": {},
   "outputs": [],
   "source": [
    "potentials_samples_proposal = [potential(s).exp().item()  for s in samples_proposal]"
   ]
  },
  {
   "cell_type": "code",
   "execution_count": 17,
   "metadata": {},
   "outputs": [
    {
     "data": {
      "image/png": "[encoded data removed]",
      "text/plain": [
       "<Figure size 360x216 with 1 Axes>"
      ]
     },
     "metadata": {
      "needs_background": "light"
     },
     "output_type": "display_data"
    }
   ],
   "source": [
    "fig, ax = plt.subplots(1,1, figsize = (5,3), constrained_layout=True)\n",
    "ax.hist(potentials_samples_proposal)\n",
    "ax.set_xlabel('potential')\n",
    "ax.set_ylabel('frequency')\n",
    "ax.set_title(f\"Histogram over potentials of {n_samples_proposal} samples from the proposal\")\n",
    "fig.savefig(\"./results/active_learning/toy_example_potential_histogram.jpg\")\n",
    "plt.show()\n"
   ]
  },
  {
   "cell_type": "code",
   "execution_count": 18,
   "metadata": {},
   "outputs": [
    {
     "data": {
      "image/png": "[encoded data removed]",
      "text/plain": [
       "<Figure size 360x216 with 1 Axes>"
      ]
     },
     "metadata": {
      "needs_background": "light"
     },
     "output_type": "display_data"
    }
   ],
   "source": [
    "fig, ax = plt.subplots(1,1, figsize = (5,3), constrained_layout=True)\n",
    "ax.hist(torch.round(samples_proposal, decimals=2).numpy(), bins=50)\n",
    "ax.set_xlabel('sample')\n",
    "ax.set_ylabel('frequency')\n",
    "ax.set_title(f\"Histogram over {n_samples_proposal} samples from the proposal\")\n",
    "fig.savefig(\"./results/active_learning/toy_example_potential_samples_proposal.jpg\")\n",
    "plt.show()"
   ]
  },
  {
   "cell_type": "code",
   "execution_count": 19,
   "metadata": {},
   "outputs": [
    {
     "data": {
      "text/plain": [
       "Text(0, 0.5, 'potential')"
      ]
     },
     "execution_count": 19,
     "metadata": {},
     "output_type": "execute_result"
    },
    {
     "data": {
      "image/png": "[encoded data removed]",
      "text/plain": [
       "<Figure size 360x216 with 1 Axes>"
      ]
     },
     "metadata": {
      "needs_background": "light"
     },
     "output_type": "display_data"
    }
   ],
   "source": [
    "fig, ax = plt.subplots(1,1, figsize = (5,3), constrained_layout=True)\n",
    "ax.scatter(samples_proposal, potentials_samples_proposal, alpha=0.4)\n",
    "ax.set_xlabel('sample')\n",
    "ax.set_ylabel('potential')"
   ]
  },
  {
   "cell_type": "code",
   "execution_count": null,
   "metadata": {},
   "outputs": [],
   "source": []
  }
 ],
 "metadata": {
  "kernelspec": {
   "display_name": "Python 3.9.7 ('mthesis')",
   "language": "python",
   "name": "python3"
  },
  "language_info": {
   "codemirror_mode": {
    "name": "ipython",
    "version": 3
   },
   "file_extension": ".py",
   "mimetype": "text/x-python",
   "name": "python",
   "nbconvert_exporter": "python",
   "pygments_lexer": "ipython3",
   "version": "3.9.7"
  },
  "orig_nbformat": 4,
  "vscode": {
   "interpreter": {
    "hash": "06960cd18a53001e07e7b62cc42eb3f51084fa348611365b68962d25c7d940d1"
   }
  }
 },
 "nbformat": 4,
 "nbformat_minor": 2
}
