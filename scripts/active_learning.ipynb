{
 "cells": [
  {
   "cell_type": "markdown",
   "metadata": {},
   "source": [
    "## Active Learning"
   ]
  },
  {
   "cell_type": "code",
   "execution_count": 1,
   "metadata": {},
   "outputs": [],
   "source": [
    "%load_ext autoreload\n",
    "%autoreload 2"
   ]
  },
  {
   "cell_type": "code",
   "execution_count": 2,
   "metadata": {},
   "outputs": [
    {
     "data": {
      "text/plain": [
       "'0.18.0'"
      ]
     },
     "execution_count": 2,
     "metadata": {},
     "output_type": "execute_result"
    }
   ],
   "source": [
    "import sbi\n",
    "sbi.__version__"
   ]
  },
  {
   "cell_type": "code",
   "execution_count": 3,
   "metadata": {},
   "outputs": [],
   "source": [
    "from sbi.inference import SNLE, SNPE\n",
    "from sbi.utils import BoxUniform\n",
    "from sbi.analysis import pairplot\n",
    "from sbi.inference import MCMCPosterior, RejectionPosterior\n",
    "from sbi.utils import mcmc_transform\n",
    "from sbi.inference.potentials.base_potential import BasePotential\n",
    "import matplotlib.pyplot as plt"
   ]
  },
  {
   "cell_type": "code",
   "execution_count": 4,
   "metadata": {},
   "outputs": [],
   "source": [
    "import torch\n",
    "from torch import ones, zeros, eye"
   ]
  },
  {
   "cell_type": "code",
   "execution_count": 5,
   "metadata": {},
   "outputs": [],
   "source": [
    "prior = BoxUniform(-ones(2), ones(2))\n",
    "def sim(theta):\n",
    "    return theta + torch.randn(theta.shape) * 0.2"
   ]
  },
  {
   "cell_type": "code",
   "execution_count": 6,
   "metadata": {},
   "outputs": [],
   "source": [
    "class AcquisitionPotential(BasePotential):\n",
    "    allow_iid_x = False\n",
    "    def __init__(self, prior, x_o, device=\"cpu\"):\n",
    "        super().__init__(prior, x_o, device)\n",
    "    \n",
    "    def __call__(self, theta, track_gradients=True):\n",
    "        return acquisition_fn(theta)\n"
   ]
  },
  {
   "cell_type": "code",
   "execution_count": 59,
   "metadata": {},
   "outputs": [],
   "source": [
    "from loss_calibration.loss import StepLoss_weighted\n",
    "loss_fn = StepLoss_weighted([2,1], 0.)"
   ]
  },
  {
   "cell_type": "code",
   "execution_count": 60,
   "metadata": {},
   "outputs": [],
   "source": [
    "# def loss_fn(true_theta, sampled_theta):\n",
    "#     costs = []\n",
    "#     for s in sampled_theta:\n",
    "#         if true_theta[0, 0] < 0.0:\n",
    "#             if s[0] < 0.0:\n",
    "#                 costs.append(torch.tensor([0.01]))\n",
    "#             else:\n",
    "#                 costs.append(torch.tensor([1.0]))\n",
    "#         else:\n",
    "#             if s[0] > 0.0:\n",
    "#                 costs.append(torch.tensor([0.01]))\n",
    "#             else:\n",
    "#                 costs.append(torch.tensor([1.0]))\n",
    "#     return torch.cat(costs)"
   ]
  },
  {
   "cell_type": "code",
   "execution_count": 66,
   "metadata": {},
   "outputs": [],
   "source": [
    "num_monte_carlo_samples_likelihood = 5\n",
    "num_monte_carlo_samples_posterior = 1\n",
    "\n",
    "    \n",
    "def acquisition_fn(theta_0):\n",
    "    predicted_x = likelihood_estimator.sample(num_monte_carlo_samples_likelihood, context=theta_0)[0] \n",
    "    predicted_theta_given_x = []\n",
    "    for px in predicted_x: #lässt sich der loop eliminieren?\n",
    "        predicted_theta_given_x.append(posterior_estimator.sample(num_monte_carlo_samples_posterior, context=px.unsqueeze(0))[0])\n",
    "    predicted_theta_given_x = torch.cat(predicted_theta_given_x)\n",
    "    predicted_decision = (predicted_theta_given_x > 0.).float()\n",
    "    estimated_cost = loss_fn(theta_0[:,0], predicted_decision[:,0])\n",
    "    #estimated_cost = loss_fn(theta_0, predicted_theta_given_x)\n",
    "    return estimated_cost.mean()\n",
    "\n",
    "# can handle batches: \n",
    "def acquisition_fn_batches(theta_0):\n",
    "    predicted_x = likelihood_estimator.sample(num_monte_carlo_samples_likelihood, context=theta_0) \n",
    "    predicted_theta_given_x = []\n",
    "    for px in predicted_x.swapaxes(0,1): #lässt sich der loop eliminieren? nein, weil posterior_sample nicht mit 3 dim umgehen kann\n",
    "        predicted_theta_given_x.append(posterior_estimator.sample(num_monte_carlo_samples_posterior, context=px))\n",
    "    predicted_theta_given_x = torch.cat(predicted_theta_given_x, dim=1) \n",
    "    predicted_decision = (predicted_theta_given_x > 0.).float()\n",
    "    #estimated_cost = loss_fn(theta_0[:,0].unsqueeze(1).repeat(1,num_monte_carlo_samples_likelihood), predicted_decision[:,:,0])\n",
    "    estimated_cost = loss_fn(theta_0, predicted_theta_given_x)\n",
    "    return estimated_cost.mean(dim=1)"
   ]
  },
  {
   "cell_type": "code",
   "execution_count": 62,
   "metadata": {},
   "outputs": [
    {
     "name": "stdout",
     "output_type": "stream",
     "text": [
      " Training neural network. Epochs trained: 10191 epochs."
     ]
    }
   ],
   "source": [
    "n_rounds = 1\n",
    "proposal = prior\n",
    "\n",
    "# inference objects\n",
    "inference_likelihood = SNLE(prior)\n",
    "inference_posterior = SNPE(prior)\n",
    "\n",
    "for r in range(n_rounds): # rounds\n",
    "    theta = proposal.sample((1000,))\n",
    "    x = sim(theta)\n",
    "    # train both SNLE and SNPE\n",
    "    likelihood_estimator = inference_likelihood.append_simulations(theta, x).train(max_num_epochs=100)\n",
    "    posterior_estimator = inference_posterior.append_simulations(theta, x, proposal=proposal).train(max_num_epochs=100)\n",
    "\n",
    "    # potential = AcquisitionPotential(prior, zeros(1, 2), device=\"cpu\")\n",
    "    # prior_tf = mcmc_transform(prior)\n",
    "    # acquisition_sampler = MCMCPosterior(potential_fn=potential, theta_transform=prior_tf, proposal=prior, init_strategy=\"proposal\", method=\"slice_np\")\n",
    "    # proposal = acquisition_sampler\n"
   ]
  },
  {
   "cell_type": "markdown",
   "metadata": {},
   "source": [
    "### Batch Handling"
   ]
  },
  {
   "cell_type": "code",
   "execution_count": null,
   "metadata": {},
   "outputs": [],
   "source": [
    "# can acquisition_fn handle btaches? \n",
    "th_0 = prior.sample((1,))\n",
    "th_0.shape, likelihood_estimator.sample(num_monte_carlo_samples_likelihood, context=th_0).shape"
   ]
  },
  {
   "cell_type": "code",
   "execution_count": null,
   "metadata": {},
   "outputs": [],
   "source": [
    "theta_0 = prior.sample((3,))\n",
    "theta_0"
   ]
  },
  {
   "cell_type": "code",
   "execution_count": null,
   "metadata": {},
   "outputs": [],
   "source": [
    "predicted_x = likelihood_estimator.sample(num_monte_carlo_samples_likelihood, context=theta_0) # shape: context[0], num_samples, context[1]\n",
    "predicted_theta_given_x = []\n",
    "for px in predicted_x.swapaxes(0,1): #lässt sich der loop eliminieren? nein, weil posterior_sample nicht mit 3 dim umgehen kann\n",
    "    # px shape: context[0], context[1]\n",
    "    post_sample = posterior_estimator.sample(num_monte_carlo_samples_posterior, context=px) # shape: context[0], 1, context[1]\n",
    "    predicted_theta_given_x.append(post_sample)\n",
    "predicted_theta_given_x = torch.cat(predicted_theta_given_x, dim=1) # shape: context[0], num_samples, context[1]\n",
    "predicted_decision = (predicted_theta_given_x > 0.).float()\n",
    "estimated_cost = loss_fn(theta_0[:,0].unsqueeze(1).repeat(1,5), predicted_decision[:,:,0])\n",
    "print(\"estimated_cost\", estimated_cost)\n",
    "print(\"mean\", estimated_cost.mean(dim=1))"
   ]
  },
  {
   "cell_type": "code",
   "execution_count": null,
   "metadata": {},
   "outputs": [],
   "source": [
    "def acquisition_fn(theta_0):\n",
    "    print(\"theta_0\", theta_0.shape)\n",
    "    predicted_x = likelihood_estimator.sample(num_monte_carlo_samples_likelihood, context=theta_0)[0]\n",
    "    print(\"predicted_x\", predicted_x.shape)\n",
    "    predicted_theta_given_x = []\n",
    "    for px in predicted_x: #lässt sich der loop eliminieren?\n",
    "        predicted_theta_given_x.append(posterior_estimator.sample(num_monte_carlo_samples_posterior, context=px.unsqueeze(0))[0])\n",
    "    predicted_theta_given_x = torch.cat(predicted_theta_given_x)\n",
    "    predicted_decision = (predicted_theta_given_x > 0.).float()\n",
    "    estimated_cost = loss_fn(theta_0[:,0], predicted_decision[:,0])\n",
    "    print(theta_0[:,0].shape, predicted_decision[:,0].shape)\n",
    "    print(\"estimated_cost\", estimated_cost.shape)\n",
    "    return estimated_cost.mean()"
   ]
  },
  {
   "cell_type": "code",
   "execution_count": null,
   "metadata": {},
   "outputs": [],
   "source": [
    "for th in theta_0[:1]:\n",
    "    print(acquisition_fn(th.unsqueeze(0)))"
   ]
  },
  {
   "cell_type": "code",
   "execution_count": null,
   "metadata": {},
   "outputs": [],
   "source": [
    "# for each theta, likelihood_estimator samples n samples\n"
   ]
  },
  {
   "cell_type": "code",
   "execution_count": null,
   "metadata": {},
   "outputs": [],
   "source": [
    "th_0 = prior.sample((1,))\n",
    "xx = likelihood_estimator.sample(5, context=th_0)\n",
    "print(\"xx\", xx.shape)\n",
    "for x in xx.swapaxes(0,1):\n",
    "    th = posterior_estimator.sample(1, context=x) # loop over dim 1 (all x)\n",
    "    print(\"x\", x.shape)\n",
    "    print(\"th\", th.squeeze(dim=1).shape)"
   ]
  },
  {
   "cell_type": "code",
   "execution_count": null,
   "metadata": {},
   "outputs": [],
   "source": [
    "posterior_estimator.sample(1, context=xx[:,1,:]).shape"
   ]
  },
  {
   "cell_type": "code",
   "execution_count": null,
   "metadata": {},
   "outputs": [],
   "source": []
  },
  {
   "cell_type": "markdown",
   "metadata": {},
   "source": [
    "### Continued"
   ]
  },
  {
   "cell_type": "code",
   "execution_count": 67,
   "metadata": {},
   "outputs": [],
   "source": [
    "potential = AcquisitionPotential(prior, zeros(1, 2), device=\"cpu\")\n",
    "prior_tf = mcmc_transform(prior)\n",
    "acquisition_sampler = MCMCPosterior(potential_fn=potential, theta_transform=prior_tf, proposal=prior, init_strategy=\"proposal\", method=\"slice_np\")#, num_chains=100)\n",
    "# proposal = prior oder proposal = proposal??\n",
    "# MCMCPosterior gegen RejectionPosterior tauschen, ggf. schneller\n",
    "# wenn acquisition_fn+loss_fn vectorized, use method = slice_np_vectorized + num_cahins = 100\n",
    "proposal = acquisition_sampler"
   ]
  },
  {
   "cell_type": "code",
   "execution_count": 68,
   "metadata": {},
   "outputs": [],
   "source": [
    "# shapes dont fit\n",
    "# aa = torch.linspace(-1,1,100)\n",
    "# plt.plot(aa, torch.cat([potential(a.unsqueeze(0).unsqueeze(0)).unsqueeze(0) for a in aa]))"
   ]
  },
  {
   "cell_type": "code",
   "execution_count": 69,
   "metadata": {},
   "outputs": [
    {
     "name": "stderr",
     "output_type": "stream",
     "text": [
      "Tuning bracket width...: 100%|██████████| 50/50 [00:21<00:00,  2.29it/s]\n",
      "Generating samples: 100%|██████████| 10/10 [00:21<00:00,  2.15s/it]\n",
      "Generating samples: 100%|██████████| 10/10 [00:20<00:00,  2.05s/it]\n"
     ]
    }
   ],
   "source": [
    "samples = proposal.sample((10,))"
   ]
  },
  {
   "cell_type": "code",
   "execution_count": 70,
   "metadata": {},
   "outputs": [
    {
     "name": "stdout",
     "output_type": "stream",
     "text": [
      "sample tensor([-0.0280,  0.4252]) \tpotential 0.600\n",
      "sample tensor([-0.1584,  0.5626]) \tpotential 0.400\n",
      "sample tensor([0.5919, 0.1166]) \tpotential 0.000\n",
      "sample tensor([ 0.6887, -0.7672]) \tpotential 0.000\n",
      "sample tensor([-0.0179, -0.6287]) \tpotential 0.600\n",
      "sample tensor([ 0.3792, -0.7839]) \tpotential 0.400\n",
      "sample tensor([-0.3888, -0.3527]) \tpotential 0.000\n",
      "sample tensor([0.3166, 0.9095]) \tpotential 0.000\n",
      "sample tensor([0.1044, 0.4243]) \tpotential 1.200\n",
      "sample tensor([ 0.1350, -0.6208]) \tpotential 0.000\n"
     ]
    }
   ],
   "source": [
    "for aa in samples:\n",
    "    print(f\"sample {aa} \\tpotential {potential(aa.unsqueeze(0)).item():.3f}\")"
   ]
  },
  {
   "cell_type": "code",
   "execution_count": 71,
   "metadata": {},
   "outputs": [],
   "source": [
    "prior_samples = prior.sample((10,))\n",
    "# for aa in prior_samples:\n",
    "#     print(\"prior\", potential(aa.unsqueeze(0)))"
   ]
  },
  {
   "cell_type": "code",
   "execution_count": 77,
   "metadata": {},
   "outputs": [
    {
     "name": "stdout",
     "output_type": "stream",
     "text": [
      "potentials:  [0.6, 0.0, 0.0, 0.0, 0.2, 0.0, 0.0, 0.0, 0.4, 0.8]\n"
     ]
    },
    {
     "data": {
      "image/png": "[encoded data removed]",
      "text/plain": [
       "<Figure size 432x288 with 1 Axes>"
      ]
     },
     "metadata": {
      "needs_background": "light"
     },
     "output_type": "display_data"
    }
   ],
   "source": [
    "samples_potentials = [potential(aa.unsqueeze(0)).item()  for aa in samples]\n",
    "prior_potentials = [potential(aa.unsqueeze(0)).item()  for aa in prior_samples]\n",
    "print(\"potentials: \", list(map(lambda p: round(p,3), samples_potentials)))\n",
    "plt.scatter(samples[:,0], samples_potentials)\n",
    "plt.scatter(prior_samples[:,0], prior_potentials)\n",
    "plt.xlabel('first element of samples')\n",
    "plt.xlabel('potential')\n",
    "plt.vlines(0.0, ymin=-0.05, ymax=max(samples_potentials+prior_potentials)+0.05, color='r')\n",
    "plt.show()"
   ]
  },
  {
   "cell_type": "code",
   "execution_count": null,
   "metadata": {},
   "outputs": [],
   "source": []
  }
 ],
 "metadata": {
  "kernelspec": {
   "display_name": "Python 3.9.7 ('mthesis')",
   "language": "python",
   "name": "python3"
  },
  "language_info": {
   "codemirror_mode": {
    "name": "ipython",
    "version": 3
   },
   "file_extension": ".py",
   "mimetype": "text/x-python",
   "name": "python",
   "nbconvert_exporter": "python",
   "pygments_lexer": "ipython3",
   "version": "3.9.7"
  },
  "orig_nbformat": 4,
  "vscode": {
   "interpreter": {
    "hash": "06960cd18a53001e07e7b62cc42eb3f51084fa348611365b68962d25c7d940d1"
   }
  }
 },
 "nbformat": 4,
 "nbformat_minor": 2
}
