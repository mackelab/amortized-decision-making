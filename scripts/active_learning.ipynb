{
 "cells": [
  {
   "cell_type": "markdown",
   "metadata": {},
   "source": [
    "## Active Learning"
   ]
  },
  {
   "cell_type": "code",
   "execution_count": 1,
   "metadata": {},
   "outputs": [],
   "source": [
    "%load_ext autoreload\n",
    "%autoreload 2"
   ]
  },
  {
   "cell_type": "code",
   "execution_count": 2,
   "metadata": {},
   "outputs": [
    {
     "data": {
      "text/plain": [
       "'0.18.0'"
      ]
     },
     "execution_count": 2,
     "metadata": {},
     "output_type": "execute_result"
    }
   ],
   "source": [
    "import sbi\n",
    "sbi.__version__"
   ]
  },
  {
   "cell_type": "code",
   "execution_count": 3,
   "metadata": {},
   "outputs": [],
   "source": [
    "import torch\n",
    "from torch import ones, zeros, eye\n",
    "\n",
    "from sbi.inference import SNLE, SNPE\n",
    "from sbi.utils import BoxUniform\n",
    "from sbi.utils.torchutils import atleast_2d\n",
    "from sbi.analysis import pairplot\n",
    "from sbi.inference import MCMCPosterior, RejectionPosterior\n",
    "from sbi.utils import mcmc_transform\n",
    "from sbi.inference.potentials.base_potential import BasePotential\n",
    "\n",
    "import matplotlib.pyplot as plt\n",
    "\n",
    "from loss_calibration.loss import StepLoss_weighted, SigmoidLoss_weighted"
   ]
  },
  {
   "cell_type": "markdown",
   "metadata": {},
   "source": [
    "Prior and Simulator"
   ]
  },
  {
   "cell_type": "code",
   "execution_count": 4,
   "metadata": {},
   "outputs": [],
   "source": [
    "prior = BoxUniform(-ones(2), ones(2))\n",
    "def sim(theta):\n",
    "    return theta + torch.randn(theta.shape) * 0.2"
   ]
  },
  {
   "cell_type": "markdown",
   "metadata": {},
   "source": [
    "Define a potential"
   ]
  },
  {
   "cell_type": "code",
   "execution_count": 5,
   "metadata": {},
   "outputs": [],
   "source": [
    "class AcquisitionPotential(BasePotential):\n",
    "    allow_iid_x = False\n",
    "    def __init__(self, prior, x_o, device=\"cpu\"):\n",
    "        super().__init__(prior, x_o, device=device)\n",
    "    \n",
    "    def __call__(self, theta, track_gradients=True):\n",
    "        return acquisition_fn(theta)\n"
   ]
  },
  {
   "cell_type": "markdown",
   "metadata": {},
   "source": [
    "Define a cost function and an acquisition function"
   ]
  },
  {
   "cell_type": "code",
   "execution_count": 6,
   "metadata": {},
   "outputs": [],
   "source": [
    "#cost_fn = StepLoss_weighted([2,1], 0.)    # ! torch.gt breaks backward pass of gradients\n",
    "cost_fn = SigmoidLoss_weighted([2,1], 0.)"
   ]
  },
  {
   "cell_type": "code",
   "execution_count": 8,
   "metadata": {},
   "outputs": [],
   "source": [
    "num_monte_carlo_samples_likelihood = 10\n",
    "num_monte_carlo_samples_posterior = 1"
   ]
  },
  {
   "cell_type": "code",
   "execution_count": 9,
   "metadata": {},
   "outputs": [],
   "source": [
    "# cost/acquisition fun without batches\n",
    "\n",
    "# def cost_fn(true_theta, sampled_theta):\n",
    "#     costs = []\n",
    "#     for s in sampled_theta:\n",
    "#         if true_theta[0, 0] < 0.0:\n",
    "#             if s[0] < 0.0:\n",
    "#                 costs.append(torch.tensor([0.01]))\n",
    "#             else:\n",
    "#                 costs.append(torch.tensor([1.0]))\n",
    "#         else:\n",
    "#             if s[0] > 0.0:\n",
    "#                 costs.append(torch.tensor([0.01]))\n",
    "#             else:\n",
    "#                 costs.append(torch.tensor([1.0]))\n",
    "#     return torch.cat(costs)\n",
    "\n",
    "# def acquisition_fn(theta_0):\n",
    "#         predicted_x = likelihood_estimator.sample(num_monte_carlo_samples_likelihood, context=theta_0)[0] \n",
    "#         predicted_theta_given_x = []\n",
    "#         for px in predicted_x: #lässt sich der loop eliminieren?\n",
    "#             predicted_theta_given_x.append(posterior_estimator.sample(num_monte_carlo_samples_posterior, context=px.unsqueeze(0))[0])\n",
    "#         predicted_theta_given_x = torch.cat(predicted_theta_given_x)\n",
    "#         predicted_decision = (predicted_theta_given_x > 0.).float()\n",
    "#         estimated_cost = cost_fn(theta_0[:,0], predicted_decision[:,0])\n",
    "#         #estimated_cost = cost_fn(theta_0, predicted_theta_given_x)\n",
    "#         return estimated_cost.mean()"
   ]
  },
  {
   "cell_type": "code",
   "execution_count": 9,
   "metadata": {},
   "outputs": [],
   "source": [
    "def acquisition_fn(theta_0):\n",
    "    theta_0 = atleast_2d(theta_0)\n",
    "    predicted_x = likelihood_estimator.sample(num_monte_carlo_samples_likelihood, context=theta_0) \n",
    "    predicted_theta_given_x = []\n",
    "    for px in predicted_x.swapaxes(0,1):\n",
    "        predicted_theta_given_x.append(posterior_estimator.sample(num_monte_carlo_samples_posterior, context=px))\n",
    "    predicted_theta_given_x = torch.cat(predicted_theta_given_x, dim=1) \n",
    "    predicted_decision = (predicted_theta_given_x > 0.).float()\n",
    "    decisiom_dim=0\n",
    "    estimated_cost = cost_fn(theta_0[:,decisiom_dim].unsqueeze(1).repeat(1,num_monte_carlo_samples_likelihood), predicted_decision[:,:,decisiom_dim])\n",
    "    #estimated_cost = loss_fn(theta_0, predicted_theta_given_x)\n",
    "    return estimated_cost.mean(dim=1)"
   ]
  },
  {
   "cell_type": "code",
   "execution_count": 16,
   "metadata": {},
   "outputs": [
    {
     "name": "stdout",
     "output_type": "stream",
     "text": [
      "----- ROUND 0 -----\n",
      " Training neural network. Epochs trained: 89"
     ]
    }
   ],
   "source": [
    "n_rounds = 10\n",
    "proposal = prior\n",
    "\n",
    "# inference objects\n",
    "inference_likelihood = SNLE(prior)\n",
    "inference_posterior = SNPE(prior)\n",
    "\n",
    "for r in range(n_rounds): # rounds\n",
    "    print(f'----- ROUND {r} -----')\n",
    "    theta = proposal.sample((1000,))\n",
    "    x = sim(theta)\n",
    "    # train both SNLE and SNPE\n",
    "    likelihood_estimator = inference_likelihood.append_simulations(theta, x).train(max_num_epochs=100)\n",
    "    posterior_estimator = inference_posterior.append_simulations(theta, x, proposal=proposal).train(max_num_epochs=100)\n",
    "\n",
    "    potential = AcquisitionPotential(prior, x_o=zeros(1, 2), device=\"cpu\")\n",
    "    prior_tf = mcmc_transform(prior)\n",
    "    #acquisition_sampler = MCMCPosterior(potential_fn=potential, theta_transform=prior_tf, proposal=proposal, init_strategy=\"proposal\", method=\"slice_np_vectorized\", num_chains=100)\n",
    "    acquisition_sampler = RejectionPosterior(potential_fn=potential, proposal=prior)\n",
    "    # proposal = prior oder proposal = proposal??\n",
    "    proposal = acquisition_sampler"
   ]
  },
  {
   "cell_type": "code",
   "execution_count": null,
   "metadata": {},
   "outputs": [
    {
     "name": "stderr",
     "output_type": "stream",
     "text": [
      "Drawing 10 posterior samples: 26it [00:00, 98.27it/s]               \n"
     ]
    }
   ],
   "source": [
    "samples = proposal.sample((10,))"
   ]
  },
  {
   "cell_type": "code",
   "execution_count": null,
   "metadata": {},
   "outputs": [
    {
     "name": "stdout",
     "output_type": "stream",
     "text": [
      "sample tensor([0.7253, 0.2593]) \tpotential 0.000\n",
      "sample tensor([0.7234, 0.6741]) \tpotential 0.000\n",
      "sample tensor([-0.3111, -0.8000]) \tpotential 0.300\n",
      "sample tensor([ 0.6715, -0.4923]) \tpotential 0.000\n",
      "sample tensor([-0.5825, -0.2116]) \tpotential 0.100\n",
      "sample tensor([-0.5721, -0.6124]) \tpotential 0.000\n",
      "sample tensor([-0.2973,  0.8226]) \tpotential 0.200\n",
      "sample tensor([ 0.5144, -0.9874]) \tpotential 0.000\n",
      "sample tensor([-0.2983, -0.7346]) \tpotential 0.200\n",
      "sample tensor([-0.1066, -0.4894]) \tpotential 0.300\n"
     ]
    }
   ],
   "source": [
    "for aa in samples:\n",
    "    print(f\"sample {aa} \\tpotential {potential(aa.unsqueeze(0)).item():.3f}\")"
   ]
  },
  {
   "cell_type": "code",
   "execution_count": null,
   "metadata": {},
   "outputs": [],
   "source": [
    "prior_samples = prior.sample((10,))\n",
    "# for aa in prior_samples:\n",
    "#     print(\"prior\", potential(aa.unsqueeze(0)))"
   ]
  },
  {
   "cell_type": "code",
   "execution_count": null,
   "metadata": {},
   "outputs": [
    {
     "name": "stdout",
     "output_type": "stream",
     "text": [
      "potentials:  [0.0, 0.0, 0.3, 0.0, 0.0, 0.0, 0.1, 0.0, 0.2, 0.4]\n"
     ]
    },
    {
     "data": {
      "image/png": "[encoded data removed]",
      "text/plain": [
       "<Figure size 432x288 with 1 Axes>"
      ]
     },
     "metadata": {
      "needs_background": "light"
     },
     "output_type": "display_data"
    }
   ],
   "source": [
    "samples_potentials = [potential(aa.unsqueeze(0)).item()  for aa in samples]\n",
    "prior_potentials = [potential(aa.unsqueeze(0)).item()  for aa in prior_samples]\n",
    "print(\"potentials: \", list(map(lambda p: round(p,3), samples_potentials)))\n",
    "plt.scatter(samples[:,0], samples_potentials)\n",
    "plt.scatter(prior_samples[:,0], prior_potentials)\n",
    "plt.xlabel('first element of samples')\n",
    "plt.xlabel('potential')\n",
    "plt.vlines(0.0, ymin=-0.05, ymax=max(samples_potentials+prior_potentials)+0.05, color='r')\n",
    "plt.show()"
   ]
  },
  {
   "cell_type": "code",
   "execution_count": null,
   "metadata": {},
   "outputs": [],
   "source": []
  }
 ],
 "metadata": {
  "kernelspec": {
   "display_name": "Python 3.9.7 ('mthesis')",
   "language": "python",
   "name": "python3"
  },
  "language_info": {
   "codemirror_mode": {
    "name": "ipython",
    "version": 3
   },
   "file_extension": ".py",
   "mimetype": "text/x-python",
   "name": "python",
   "nbconvert_exporter": "python",
   "pygments_lexer": "ipython3",
   "version": "3.9.7"
  },
  "orig_nbformat": 4,
  "vscode": {
   "interpreter": {
    "hash": "06960cd18a53001e07e7b62cc42eb3f51084fa348611365b68962d25c7d940d1"
   }
  }
 },
 "nbformat": 4,
 "nbformat_minor": 2
}
