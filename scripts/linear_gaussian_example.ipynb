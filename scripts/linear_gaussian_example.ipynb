{
 "cells": [
  {
   "cell_type": "markdown",
   "metadata": {},
   "source": [
    "## Linear Gaussian Example"
   ]
  },
  {
   "cell_type": "code",
   "execution_count": 1,
   "metadata": {},
   "outputs": [],
   "source": [
    "%load_ext autoreload\n",
    "%autoreload 2"
   ]
  },
  {
   "cell_type": "code",
   "execution_count": 2,
   "metadata": {},
   "outputs": [],
   "source": [
    "import torch\n",
    "from sbi.simulators.linear_gaussian import linear_gaussian\n",
    "from typing import Union\n",
    "from sbi.utils import BoxUniform\n",
    "from torch import eye, ones, zeros\n",
    "from torch.distributions import MultivariateNormal\n",
    "from sbi.utils.torchutils import atleast_2d\n",
    "from sbi.inference import prepare_for_sbi\n",
    "\n",
    "from loss_calibration.classifier import FeedforwardNN,train\n",
    "import matplotlib.pyplot as plt\n",
    "import matplotlib as mpl"
   ]
  },
  {
   "cell_type": "markdown",
   "metadata": {},
   "source": [
    "copied from : \n",
    "https://github.com/mackelab/sbi/blob/7799de5e4bc676ef4a9db304b225503126735f2c/sbi/simulators/linear_gaussian.py#L155"
   ]
  },
  {
   "cell_type": "code",
   "execution_count": 3,
   "metadata": {},
   "outputs": [],
   "source": [
    "def gt_posterior(\n",
    "    x_o: torch.Tensor,\n",
    "    likelihood_shift: torch.Tensor,\n",
    "    likelihood_cov: torch.Tensor,\n",
    "    prior: Union[torch.distributions.Uniform, torch.distributions.Independent],\n",
    "    num_samples: int = 1000,):\n",
    "    x_o = atleast_2d(x_o)\n",
    "    num_trials, *_ = x_o.shape\n",
    "    x_o_mean = x_o.mean(0)\n",
    "    likelihood_mean = x_o_mean - likelihood_shift\n",
    "\n",
    "    posterior = MultivariateNormal(\n",
    "        loc=likelihood_mean, covariance_matrix=1 / num_trials * likelihood_cov\n",
    "    )\n",
    "\n",
    "    # skipped: loop to sample and check if within prior\n",
    "\n",
    "    return posterior"
   ]
  },
  {
   "cell_type": "markdown",
   "metadata": {},
   "source": [
    "copied from https://github.com/mackelab/sbi/blob/7799de5e4bc676ef4a9db304b225503126735f2c/tests/linearGaussian_snpe_test.py#L54"
   ]
  },
  {
   "cell_type": "code",
   "execution_count": 4,
   "metadata": {},
   "outputs": [],
   "source": [
    "num_dim = 1\n",
    "x_o = zeros(1, num_dim)\n",
    "num_samples = 1000\n",
    "num_simulations = 2600\n",
    "\n",
    "# likelihood_mean will be likelihood_shift+theta\n",
    "likelihood_shift = -1.0 * ones(num_dim)\n",
    "likelihood_cov = 0.3 * eye(num_dim)\n",
    "\n",
    "prior = BoxUniform(-2.0 * ones(num_dim), 2.0 * ones(num_dim))\n",
    "target_posterior = gt_posterior(\n",
    "    x_o, likelihood_shift, likelihood_cov, prior=prior, num_samples=num_samples\n",
    ")"
   ]
  },
  {
   "cell_type": "code",
   "execution_count": 5,
   "metadata": {},
   "outputs": [],
   "source": [
    "simulator, prior = prepare_for_sbi(\n",
    "    lambda theta: linear_gaussian(theta, likelihood_shift, likelihood_cov), prior\n",
    ")"
   ]
  },
  {
   "cell_type": "markdown",
   "metadata": {},
   "source": [
    "sample data"
   ]
  },
  {
   "cell_type": "code",
   "execution_count": 6,
   "metadata": {},
   "outputs": [],
   "source": [
    "load_data = True\n",
    "if load_data: \n",
    "    theta_train = torch.load(\"./data/linear_gaussian/theta_train.pt\")\n",
    "    x_train = torch.load(\"./data/linear_gaussian/x_train.pt\")\n",
    "    theta_val = torch.load(\"./data/linear_gaussian/theta_val.pt\")\n",
    "    x_val = torch.load(\"./data/linear_gaussian/x_val.pt\") \n",
    "    theta_test = torch.load(\"./data/linear_gaussian/theta_test.pt\")\n",
    "    x_test = torch.load(\"./data/linear_gaussian/x_test.pt\")\n",
    "else:\n",
    "    theta_train = prior.sample((100000,))\n",
    "    x_train = simulator(theta_train)\n",
    "    theta_val = prior.sample((5000,))\n",
    "    x_val = simulator(theta_val)\n",
    "    theta_test = prior.sample((5000,))\n",
    "    x_test = simulator(theta_test)\n",
    "    torch.save(theta_train, \"./data/linear_gaussian/theta_train.pt\")\n",
    "    torch.save(x_train, \"./data/linear_gaussian/x_train.pt\")\n",
    "    torch.save(theta_val, \"./data/linear_gaussian/theta_val.pt\")\n",
    "    torch.save(x_val, \"./data/linear_gaussian/x_val.pt\")\n",
    "    torch.save(theta_test, \"./data/linear_gaussian/theta_test.pt\")\n",
    "    torch.save(x_test, \"./data/linear_gaussian/x_test.pt\")"
   ]
  },
  {
   "cell_type": "code",
   "execution_count": 7,
   "metadata": {},
   "outputs": [],
   "source": [
    "def ratio_given_posterior(posterior, costs = [5., 1.]):\n",
    "    grid = torch.linspace(-3, 3, 500).unsqueeze(1)\n",
    "    posterior_evals = torch.exp(posterior.log_prob(grid))\n",
    "    total_sum = costs[0] * torch.sum(posterior_evals[250:]) + costs[1] * torch.sum(posterior_evals[:250]) #threshold at 0\n",
    "    ratio = costs[0]*torch.sum(posterior_evals[250:]) / total_sum\n",
    "    return ratio"
   ]
  },
  {
   "cell_type": "code",
   "execution_count": 8,
   "metadata": {},
   "outputs": [],
   "source": [
    "ratios = []\n",
    "for xx in x_test:\n",
    "    p = gt_posterior(\n",
    "        xx.unsqueeze(0), likelihood_shift, likelihood_cov, prior=prior, num_samples=num_samples\n",
    "    )\n",
    "    ratios.append(ratio_given_posterior(p))"
   ]
  },
  {
   "cell_type": "code",
   "execution_count": 9,
   "metadata": {},
   "outputs": [],
   "source": [
    "threshold = 0.0\n",
    "costs = [5.0, 1.0]"
   ]
  },
  {
   "cell_type": "markdown",
   "metadata": {},
   "source": [
    "train model"
   ]
  },
  {
   "cell_type": "code",
   "execution_count": 10,
   "metadata": {},
   "outputs": [],
   "source": [
    "train_clf = False\n",
    "if train_clf:\n",
    "    clf = FeedforwardNN(1, [100, 100, 100], 1)\n",
    "\n",
    "    clf, loss_values_train, loss_values_val = train(\n",
    "        clf,\n",
    "        x_train,\n",
    "        theta_train,\n",
    "        x_val,\n",
    "        theta_val,\n",
    "        costs,\n",
    "        threshold,\n",
    "        learning_rate=0.001,\n",
    "        max_num_epochs=5000,\n",
    "        model_dir=\"/Users/mgorecki/Documents/Studium/Master/5.Semester/Masterarbeit/loss-calibration/results/1d_classifier/linear_gaussian_model\",\n",
    "    )"
   ]
  },
  {
   "cell_type": "markdown",
   "metadata": {},
   "source": [
    "load best model"
   ]
  },
  {
   "cell_type": "code",
   "execution_count": 11,
   "metadata": {},
   "outputs": [
    {
     "data": {
      "text/plain": [
       "<All keys matched successfully>"
      ]
     },
     "execution_count": 11,
     "metadata": {},
     "output_type": "execute_result"
    }
   ],
   "source": [
    "clf_ckp = torch.load(\"/Users/mgorecki/Documents/Studium/Master/5.Semester/Masterarbeit/loss-calibration/results/1d_classifier/linear_gaussian_model/best_model.pt\")\n",
    "model = FeedforwardNN(1, [100, 100, 100], 1)\n",
    "model.load_state_dict(clf_ckp[\"state_dict\"])"
   ]
  },
  {
   "cell_type": "markdown",
   "metadata": {},
   "source": [
    "predictions on test data"
   ]
  },
  {
   "cell_type": "code",
   "execution_count": 12,
   "metadata": {},
   "outputs": [],
   "source": [
    "predicted_ratio = model(x_test)"
   ]
  },
  {
   "cell_type": "markdown",
   "metadata": {},
   "source": [
    "Check convergence of the model with pp-plot (predicted ratio vs. true ratio)"
   ]
  },
  {
   "cell_type": "code",
   "execution_count": 29,
   "metadata": {},
   "outputs": [
    {
     "data": {
      "image/png": "[encoded data removed]",
      "text/plain": [
       "<Figure size 576x576 with 1 Axes>"
      ]
     },
     "metadata": {
      "needs_background": "light"
     },
     "output_type": "display_data"
    }
   ],
   "source": [
    "sorted_idx = torch.argsort(torch.stack(ratios))\n",
    "\n",
    "fig, ax = plt.subplots(1, 1, figsize=(8,8))\n",
    "ax.plot([0,1], [0,1], c='g', label='ideal')\n",
    "ax.plot(torch.stack(ratios).numpy()[sorted_idx], predicted_ratio.detach().numpy()[sorted_idx], label='predicted')\n",
    "ax.legend()\n",
    "plt.xlabel('true ratio'); plt.ylabel('predicted ratio'); plt.show()"
   ]
  },
  {
   "cell_type": "markdown",
   "metadata": {},
   "source": [
    "We can also look at the ratios for each data point"
   ]
  },
  {
   "cell_type": "code",
   "execution_count": 21,
   "metadata": {},
   "outputs": [
    {
     "data": {
      "image/png": "[encoded data removed]",
      "text/plain": [
       "<Figure size 600x400 with 1 Axes>"
      ]
     },
     "metadata": {},
     "output_type": "display_data"
    }
   ],
   "source": [
    "n_samples = 500\n",
    "with mpl.rc_context(fname=\"loss_calibration/.matplotlibrc\"):\n",
    "    fig, ax = plt.subplots(1, 1, figsize=(6, 4))\n",
    "    ax.scatter(x_test[:n_samples].numpy(), predicted_ratio[:n_samples].detach().numpy(), label='predicted')\n",
    "    ax.scatter(x_test[:n_samples], ratios[:n_samples], label='true')\n",
    "    ax.legend()\n",
    "    plt.xlabel('x'); plt.ylabel('ratio'); plt.show()"
   ]
  },
  {
   "cell_type": "code",
   "execution_count": 36,
   "metadata": {},
   "outputs": [
    {
     "data": {
      "image/png": "[encoded data removed]",
      "text/plain": [
       "<Figure size 432x288 with 1 Axes>"
      ]
     },
     "metadata": {
      "needs_background": "light"
     },
     "output_type": "display_data"
    }
   ],
   "source": [
    "fig, ax = plt.subplots(1,1,figsize=(6,4))\n",
    "ax.hist(torch.stack(ratios).numpy())\n",
    "ax.set_xlabel('true ratio'), ax.set_ylabel('frequency')\n",
    "plt.show()"
   ]
  },
  {
   "cell_type": "markdown",
   "metadata": {},
   "source": [
    "From the histogram it become apparent that most of the ratios are easy to decide, much less observations lead to ratios that are difficult to decide about. "
   ]
  },
  {
   "cell_type": "code",
   "execution_count": null,
   "metadata": {},
   "outputs": [],
   "source": []
  }
 ],
 "metadata": {
  "interpreter": {
   "hash": "06960cd18a53001e07e7b62cc42eb3f51084fa348611365b68962d25c7d940d1"
  },
  "kernelspec": {
   "display_name": "Python 3.9.7 ('mthesis')",
   "language": "python",
   "name": "python3"
  },
  "language_info": {
   "codemirror_mode": {
    "name": "ipython",
    "version": 3
   },
   "file_extension": ".py",
   "mimetype": "text/x-python",
   "name": "python",
   "nbconvert_exporter": "python",
   "pygments_lexer": "ipython3",
   "version": "3.9.7"
  },
  "orig_nbformat": 4
 },
 "nbformat": 4,
 "nbformat_minor": 2
}
