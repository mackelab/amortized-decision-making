{
 "cells": [
  {
   "cell_type": "markdown",
   "metadata": {},
   "source": [
    "# BVEP"
   ]
  },
  {
   "cell_type": "code",
   "execution_count": 1,
   "metadata": {},
   "outputs": [],
   "source": [
    "%load_ext autoreload\n",
    "%autoreload 2"
   ]
  },
  {
   "cell_type": "code",
   "execution_count": 2,
   "metadata": {},
   "outputs": [],
   "source": [
    "from loss_cal.tasks.bvep import BVEP\n",
    "import torch\n",
    "import matplotlib as mpl\n",
    "import matplotlib.pyplot as plt\n",
    "from loss_cal.costs import StepCost_weighted\n",
    "from loss_cal.predictor import train, build_nn\n",
    "from functools import partial\n",
    "\n",
    "\n",
    "plot_config_file = \"loss_cal/utils/.matplotlibrc\"\n",
    "color_npe = '#377eb8'\n",
    "color_nn = '#ff7f00'\n",
    "color_post = '#4daf4a'\n",
    "\n",
    "task_name=\"bvep\"\n",
    "action_type=\"discrete\"\n",
    "seed = seed = 0 #457 #85403"
   ]
  },
  {
   "cell_type": "markdown",
   "metadata": {},
   "source": [
    "## Set Up"
   ]
  },
  {
   "cell_type": "code",
   "execution_count": 3,
   "metadata": {},
   "outputs": [
    {
     "name": "stderr",
     "output_type": "stream",
     "text": [
      "/Users/mgorecki/Documents/projects/loss-calibration/code/loss-cal/loss_cal/tasks/bvep.py:169: NumbaDeprecationWarning: The keyword argument 'nopython=False' was supplied. From Numba 0.59.0 the default is being changed to True and use of 'nopython=False' will raise a warning as the argument will have no effect. See https://numba.readthedocs.io/en/stable/reference/deprecation.html#deprecation-of-object-mode-fall-back-behaviour-when-using-jit for details.\n",
      "  Epileptor2Dmodel = numba.jit(Epileptor2Dmodel, nopython=False)\n"
     ]
    },
    {
     "data": {
      "text/plain": [
       "'bvep'"
      ]
     },
     "execution_count": 3,
     "metadata": {},
     "output_type": "execute_result"
    }
   ],
   "source": [
    "bvep = BVEP(action_type=action_type, num_actions=2, simulator=\"2D\")\n",
    "bvep.task_name"
   ]
  },
  {
   "cell_type": "markdown",
   "metadata": {},
   "source": [
    "Prior and Simulator"
   ]
  },
  {
   "cell_type": "code",
   "execution_count": 4,
   "metadata": {},
   "outputs": [],
   "source": [
    "prior = bvep.get_prior()\n",
    "simulator = bvep.get_simulator()"
   ]
  },
  {
   "cell_type": "code",
   "execution_count": 5,
   "metadata": {},
   "outputs": [
    {
     "data": {
      "text/plain": [
       "{'low': tensor([-5.0000,  0.1000, -5.0000,  0.0000]),\n",
       " 'high': tensor([ 0., 50.,  0.,  5.])}"
      ]
     },
     "execution_count": 5,
     "metadata": {},
     "output_type": "execute_result"
    }
   ],
   "source": [
    "bvep.prior_params"
   ]
  },
  {
   "cell_type": "code",
   "execution_count": 6,
   "metadata": {},
   "outputs": [],
   "source": [
    "# import numpy as np\n",
    "# simulator(np.array([-2., 2800.])).shape"
   ]
  },
  {
   "cell_type": "markdown",
   "metadata": {},
   "source": [
    "## Decision Task"
   ]
  },
  {
   "cell_type": "code",
   "execution_count": 7,
   "metadata": {},
   "outputs": [],
   "source": [
    "param = 0\n",
    "eta_crit = -2.05\n",
    "costs = [5.0, 1.0]\n",
    "cost_fn = StepCost_weighted(costs, threshold=eta_crit)\n"
   ]
  },
  {
   "cell_type": "markdown",
   "metadata": {},
   "source": [
    "### Load Data"
   ]
  },
  {
   "cell_type": "code",
   "execution_count": 8,
   "metadata": {},
   "outputs": [],
   "source": [
    "# bvep.generate_data(ntrain=5, ntest=1, nval=1, show_progress=True, save_data=False)"
   ]
  },
  {
   "cell_type": "code",
   "execution_count": 9,
   "metadata": {},
   "outputs": [
    {
     "name": "stdout",
     "output_type": "stream",
     "text": [
      "torch.Size([100000, 1]) torch.Size([100000, 4])\n"
     ]
    }
   ],
   "source": [
    "theta_train = torch.load(f'./data/bvep/Epileptor2D_summstats/bvep/theta_train.pt')[:, param:param+1]\n",
    "x_train = torch.load(f'./data/bvep/Epileptor2D_summstats/bvep/x_train.pt')\n",
    "theta_val = torch.load(f'./data/bvep/Epileptor2D_summstats/bvep/theta_val.pt')[:, param:param+1]\n",
    "x_val = torch.load(f'./data/bvep/Epileptor2D_summstats/bvep/x_val.pt')\n",
    "print(theta_train.shape, x_train.shape)"
   ]
  },
  {
   "cell_type": "code",
   "execution_count": 10,
   "metadata": {},
   "outputs": [],
   "source": [
    "# theta_train = torch.vstack([torch.load(f'./data/bvep/Epileptor6D/theta_{i}.pt') for i in range(1,6)])[:, param:param+1]\n",
    "# x_train = torch.vstack([torch.load(f'./data/bvep/Epileptor6D/x_{i}.pt') for i in range(1,6)])\n",
    "# theta_val = torch.load('./data/bvep/Epileptor6D/theta_0.pt')[:, param:param+1]\n",
    "# x_val = torch.load('./data/bvep/Epileptor6D/x_0.pt')\n",
    "# print(theta_train.shape, x_train.shape)"
   ]
  },
  {
   "cell_type": "markdown",
   "metadata": {},
   "source": [
    "Remove invalid observations"
   ]
  },
  {
   "cell_type": "code",
   "execution_count": 11,
   "metadata": {},
   "outputs": [
    {
     "name": "stdout",
     "output_type": "stream",
     "text": [
      "train: torch.Size([100000, 1]) torch.Size([100000, 4])\n",
      "val torch.Size([100000, 1]) torch.Size([100000, 4])\n"
     ]
    }
   ],
   "source": [
    "mask_train = torch.any(x_train.isnan(), dim=1) #NaN and inf\n",
    "x_train = x_train[~mask_train]\n",
    "theta_train = theta_train[~mask_train]\n",
    "\n",
    "mask_val = torch.any(x_val.isnan(), dim=1)\n",
    "x_val = x_val[~mask_val]\n",
    "theta_val = theta_val[~mask_val]\n",
    "\n",
    "print(\"train:\", theta_train.shape, x_train.shape)\n",
    "print(\"val\", theta_val.shape, x_val.shape)"
   ]
  },
  {
   "cell_type": "code",
   "execution_count": 12,
   "metadata": {},
   "outputs": [
    {
     "data": {
      "text/plain": [
       "(tensor(False), tensor(False))"
      ]
     },
     "execution_count": 12,
     "metadata": {},
     "output_type": "execute_result"
    }
   ],
   "source": [
    "x_train.isinf().any(), x_train.isnan().any()"
   ]
  },
  {
   "cell_type": "markdown",
   "metadata": {},
   "source": [
    "Test cost fn"
   ]
  },
  {
   "cell_type": "code",
   "execution_count": 13,
   "metadata": {},
   "outputs": [],
   "source": [
    "n_train = 10000\n",
    "theta_train = theta_train[:n_train]\n",
    "x_train = x_train[:n_train]"
   ]
  },
  {
   "cell_type": "code",
   "execution_count": 14,
   "metadata": {},
   "outputs": [
    {
     "data": {
      "image/png": "[encoded data removed]",
      "text/plain": [
       "<Figure size 640x480 with 1 Axes>"
      ]
     },
     "metadata": {},
     "output_type": "display_data"
    }
   ],
   "source": [
    "plt.hist(theta_train.numpy(), bins=50)\n",
    "plt.show()"
   ]
  },
  {
   "cell_type": "code",
   "execution_count": 15,
   "metadata": {},
   "outputs": [],
   "source": [
    "actions_evaluate = bvep.actions.sample(x_train.shape[0]).float()"
   ]
  },
  {
   "cell_type": "markdown",
   "metadata": {},
   "source": [
    "### Train NN"
   ]
  },
  {
   "cell_type": "code",
   "execution_count": 16,
   "metadata": {},
   "outputs": [],
   "source": [
    "def rescaled_cost_fn(true_theta, action, theta_train,  actions_evaluate):\n",
    "    return (cost_fn(true_theta=true_theta, action=action) - cost_fn(theta_train, actions_evaluate).mean()) / cost_fn(theta_train, actions_evaluate).std()\n",
    "#partial(rescaled_cost_fn, theta_train=theta_train, actions_evaluate=actions_evaluate)"
   ]
  },
  {
   "cell_type": "code",
   "execution_count": null,
   "metadata": {},
   "outputs": [],
   "source": []
  },
  {
   "cell_type": "code",
   "execution_count": 17,
   "metadata": {},
   "outputs": [
    {
     "name": "stdout",
     "output_type": "stream",
     "text": [
      "FeedforwardNN(\n",
      "  (standardize_layer): Standardize()\n",
      "  (input_layer): Linear(in_features=5, out_features=100, bias=True)\n",
      "  (hidden_layers): ModuleList(\n",
      "    (0-1): 2 x Linear(in_features=100, out_features=100, bias=True)\n",
      "  )\n",
      "  (final_layer): Linear(in_features=100, out_features=1, bias=True)\n",
      "  (activation): Sigmoid()\n",
      "  (output_transform): Softplus(beta=1, threshold=20)\n",
      ")\n",
      "-----\n"
     ]
    }
   ],
   "source": [
    "nn = build_nn(\n",
    "    model=\"fc\",\n",
    "    x_train=x_train,\n",
    "    action_train=actions_evaluate,\n",
    "    hidden_dims=[100, 100, 100],\n",
    "    output_dim=1,\n",
    "    activation=torch.nn.Sigmoid(),\n",
    "    output_transform=torch.nn.Softplus(),\n",
    "    seed=seed,\n",
    ")\n",
    "print(nn, end=\"\\n-----\\n\")"
   ]
  },
  {
   "cell_type": "code",
   "execution_count": 18,
   "metadata": {},
   "outputs": [
    {
     "name": "stdout",
     "output_type": "stream",
     "text": [
      "Subdirectory 'checkpoints' already exists. Delete first if wanted.\n",
      "Converged after 540 epochs. train_loss = 0.17830022\t last_improvement = 50\n"
     ]
    }
   ],
   "source": [
    "nn, train_loss, val_loss = train(\n",
    "    model=nn,\n",
    "    x_train=x_train,\n",
    "    theta_train=theta_train,\n",
    "    cost_fn=cost_fn, #partial(rescaled_cost_fn, theta_train=theta_train, actions_evaluate=actions_evaluate),\n",
    "    x_val=x_val,\n",
    "    theta_val=theta_val,\n",
    "    actions=bvep.actions,\n",
    "    learning_rate=1e-3,\n",
    "    model_dir=f\"./results/{task_name}/discrete/notebook\",\n",
    "    stop_after_epochs=50,\n",
    "    ckp_interval = 1,\n",
    "    seed = seed\n",
    ")"
   ]
  },
  {
   "cell_type": "code",
   "execution_count": 19,
   "metadata": {},
   "outputs": [
    {
     "data": {
      "image/png": "[encoded data removed]",
      "text/plain": [
       "<Figure size 400x200 with 1 Axes>"
      ]
     },
     "metadata": {},
     "output_type": "display_data"
    }
   ],
   "source": [
    "fig, ax = plt.subplots(1, 1, figsize=(4, 2))\n",
    "ax.plot(train_loss, label=\"train\")\n",
    "ax.plot(val_loss, label=\"val\")\n",
    "ax.set_title(\"Loss curve\")\n",
    "ax.set_xlabel(\"epochs\")\n",
    "ax.set_ylabel(\"loss\")\n",
    "ax.legend()\n",
    "plt.show()"
   ]
  },
  {
   "cell_type": "markdown",
   "metadata": {},
   "source": [
    "### Evaluate model"
   ]
  },
  {
   "cell_type": "code",
   "execution_count": 20,
   "metadata": {},
   "outputs": [],
   "source": [
    "predictions_train = nn(x_train, actions_evaluate).detach()\n",
    "#true_expected_costs_train = torch.Tensor([bvep.expected_posterior_costs(x_o, a, cost_fn=cost_fn, param=) for x_o, a in zip(x_train, actions_evaluate)]) "
   ]
  },
  {
   "cell_type": "code",
   "execution_count": 21,
   "metadata": {},
   "outputs": [
    {
     "data": {
      "text/plain": [
       "(array([4.641e+03, 1.420e+02, 7.600e+01, 6.000e+01, 4.400e+01, 5.200e+01,\n",
       "        3.300e+01, 7.400e+01, 8.700e+01, 3.970e+02, 2.314e+03, 3.000e+00,\n",
       "        1.100e+01, 6.000e+00, 6.000e+00, 3.000e+00, 3.000e+00, 7.000e+00,\n",
       "        7.000e+00, 9.000e+00, 5.000e+00, 3.000e+00, 5.000e+00, 8.000e+00,\n",
       "        1.100e+01, 9.000e+00, 4.000e+00, 6.000e+00, 6.000e+00, 4.000e+00,\n",
       "        3.000e+00, 7.000e+00, 6.000e+00, 1.100e+01, 7.000e+00, 1.500e+01,\n",
       "        8.000e+00, 9.000e+00, 1.200e+01, 1.500e+01, 1.900e+01, 2.200e+01,\n",
       "        2.500e+01, 3.000e+01, 2.500e+01, 3.500e+01, 4.100e+01, 6.800e+01,\n",
       "        5.140e+02, 1.092e+03]),\n",
       " array([0.01057344, 0.11234795, 0.21412246, 0.31589699, 0.41767147,\n",
       "        0.51944602, 0.62122053, 0.72299504, 0.8247695 , 0.92654401,\n",
       "        1.02831852, 1.1300931 , 1.23186755, 1.33364213, 1.43541658,\n",
       "        1.53719115, 1.63896561, 1.74074006, 1.84251463, 1.94428909,\n",
       "        2.04606366, 2.14783812, 2.24961257, 2.35138726, 2.45316172,\n",
       "        2.55493617, 2.65671062, 2.75848532, 2.86025977, 2.96203423,\n",
       "        3.06380868, 3.16558337, 3.26735783, 3.36913228, 3.47090673,\n",
       "        3.57268119, 3.67445588, 3.77623034, 3.87800479, 3.97977924,\n",
       "        4.08155394, 4.18332815, 4.28510284, 4.38687754, 4.48865175,\n",
       "        4.59042645, 4.69220114, 4.79397535, 4.89575005, 4.99752426,\n",
       "        5.09929895]),\n",
       " <BarContainer object of 50 artists>)"
      ]
     },
     "execution_count": 21,
     "metadata": {},
     "output_type": "execute_result"
    },
    {
     "data": {
      "image/png": "[encoded data removed]",
      "text/plain": [
       "<Figure size 640x480 with 1 Axes>"
      ]
     },
     "metadata": {},
     "output_type": "display_data"
    }
   ],
   "source": [
    "plt.hist(predictions_train.detach().numpy(), bins=50)"
   ]
  },
  {
   "cell_type": "code",
   "execution_count": 22,
   "metadata": {},
   "outputs": [
    {
     "data": {
      "image/png": "[encoded data removed]",
      "text/plain": [
       "<Figure size 640x480 with 1 Axes>"
      ]
     },
     "metadata": {},
     "output_type": "display_data"
    }
   ],
   "source": [
    "a = 0\n",
    "cond = (actions_evaluate == a).squeeze()\n",
    "# plt.scatter(theta_train[cond].numpy().squeeze(), true_expected_costs_train[cond.T], s=1, c=color_post)\n",
    "plt.scatter(theta_train[cond].numpy().squeeze(), predictions_train[cond].numpy().squeeze(), s=1, c=color_nn)\n",
    "plt.xlabel(r\"$\\theta$\")\n",
    "plt.ylabel(\"predicted costs\")\n",
    "plt.show()"
   ]
  },
  {
   "cell_type": "code",
   "execution_count": null,
   "metadata": {},
   "outputs": [],
   "source": []
  }
 ],
 "metadata": {
  "kernelspec": {
   "display_name": "losscal-py310",
   "language": "python",
   "name": "python3"
  },
  "language_info": {
   "codemirror_mode": {
    "name": "ipython",
    "version": 3
   },
   "file_extension": ".py",
   "mimetype": "text/x-python",
   "name": "python",
   "nbconvert_exporter": "python",
   "pygments_lexer": "ipython3",
   "version": "3.10.12"
  },
  "orig_nbformat": 4
 },
 "nbformat": 4,
 "nbformat_minor": 2
}
