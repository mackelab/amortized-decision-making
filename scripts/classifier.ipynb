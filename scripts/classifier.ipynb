{
 "cells": [
  {
   "cell_type": "markdown",
   "metadata": {},
   "source": [
    "# Test Classifier Approach\n",
    "\n",
    "Testing the idea to build a classifier that directly predicts actions based on observations"
   ]
  },
  {
   "cell_type": "code",
   "execution_count": 1,
   "metadata": {},
   "outputs": [],
   "source": [
    "import torch\n",
    "import torch.nn as nn\n",
    "import matplotlib as mpl\n",
    "import matplotlib.pyplot as plt\n",
    "\n",
    "from sbi.utils import BoxUniform\n",
    "from sbi.inference import SNPE, prepare_for_sbi, simulate_for_sbi"
   ]
  },
  {
   "cell_type": "markdown",
   "metadata": {},
   "source": [
    "### Classifier without input"
   ]
  },
  {
   "cell_type": "markdown",
   "metadata": {},
   "source": [
    "Data distribution over $\\theta$ to sample from. "
   ]
  },
  {
   "cell_type": "code",
   "execution_count": 2,
   "metadata": {},
   "outputs": [],
   "source": [
    "dist = torch.distributions.Normal(10, 5)\n",
    "thetas = torch.arange(-10, 30, 0.01)"
   ]
  },
  {
   "cell_type": "markdown",
   "metadata": {},
   "source": [
    "Define a loss"
   ]
  },
  {
   "cell_type": "code",
   "execution_count": 3,
   "metadata": {},
   "outputs": [],
   "source": [
    "threshold = 5.0\n",
    "\n",
    "#loss = lambda th: (th>threshold).type(torch.float)#*0.2#*(th-threshold)  # loss when predicting th<T\n",
    "#loss2 = lambda th: (th<threshold).type(torch.float)*10#*0.9#*(threshold-th) # loss when predicting th>T\n",
    "\n",
    "def BCELoss_classweighted(weights = [10., 1.], threshold=5.0):\n",
    "\n",
    "    def loss(theta, decision):\n",
    "        \"\"\"custom loss function (BCE with class weights)\n",
    "\n",
    "        Args:\n",
    "            theta (torch.Tensor): observed parameter value\n",
    "            decision (int): indicates decision: 0 (below threshold) or  1(above treshold)\n",
    "            threshold (float, optional): threshold for binarized decisons. Defaults to threshold.\n",
    "\n",
    "        Returns:\n",
    "            float: incurred loss\n",
    "        \"\"\"\n",
    "        #assert decision in [0,1], \"decision has to be one of 0 (below threshold) or  1(above treshold)\"\n",
    "        return decision * (1 - torch.gt(theta,threshold).type(torch.float)) * weights[0] + (1-decision) * torch.gt(theta,threshold).type(torch.float) * weights[1]\n",
    "        if decision==0: #predicting theta<threshold\n",
    "            return (theta>threshold).type(torch.float) #*0.2#*(th-threshold)\n",
    "        elif decision==1: #predicting theta>threshold\n",
    "            return (theta<threshold).type(torch.float)*10 #*0.9#*(threshold-th)\n",
    "    \n",
    "    return loss"
   ]
  },
  {
   "cell_type": "code",
   "execution_count": 4,
   "metadata": {},
   "outputs": [
    {
     "data": {
      "image/png": "[encoded data removed]",
      "text/plain": [
       "<Figure size 640x480 with 1 Axes>"
      ]
     },
     "metadata": {},
     "output_type": "display_data"
    }
   ],
   "source": [
    "probs = dist.log_prob(thetas).exp()\n",
    "loss = BCELoss_classweighted()\n",
    "\n",
    "with mpl.rc_context(fname=\"loss_calibration/.matplotlibrc\"):\n",
    "    plt.axvline(x=5.0, color='k', label='threshold')\n",
    "    plt.axvspan(5, 30.5, facecolor='r', alpha=0.1, label=r'$D_2$')\n",
    "    plt.axvspan(-10.5, 5, facecolor='y', alpha=0.1, label=r'$D_1$')\n",
    "\n",
    "    plt.plot(thetas, probs, color='#1E88E5', label=r'$p(\\theta|x)$')\n",
    "\n",
    "    plt.plot(thetas, 0.01*loss(thetas, 0), color='#EFB913', label=r'$L(\\theta, d_1)$')\n",
    "    plt.plot(thetas, 0.01*loss(thetas, 1), color='#EC400E', label=r'$L(\\theta, d_2)$')\n",
    "    \n",
    "    #plt.xticks([]); plt.yticks([])\n",
    "    plt.xlabel(r'$\\theta$'); plt.ylabel(r'$p(\\theta)$')\n",
    "    plt.legend(loc='upper center', bbox_to_anchor=(0.5, -0.1),\n",
    "          fancybox=True, shadow=True, ncol=6)\n",
    "          \n",
    "    #plt.savefig('figures/setup.pdf')\n",
    "    plt.show()"
   ]
  },
  {
   "cell_type": "markdown",
   "metadata": {},
   "source": [
    "Sample data "
   ]
  },
  {
   "cell_type": "code",
   "execution_count": 5,
   "metadata": {},
   "outputs": [],
   "source": [
    "N= 5000\n",
    "th_train = dist.sample((N,))\n",
    "y_train = (th_train>threshold).float()*2-1  #labels ±1"
   ]
  },
  {
   "cell_type": "code",
   "execution_count": 6,
   "metadata": {},
   "outputs": [
    {
     "data": {
      "text/plain": [
       "tensor(0.3546)"
      ]
     },
     "execution_count": 6,
     "metadata": {},
     "output_type": "execute_result"
    }
   ],
   "source": [
    "# classifier expected to converge to\n",
    "loss(th_train, 0).sum() / (loss(th_train, 0) + loss(th_train, 1)).sum()"
   ]
  },
  {
   "cell_type": "markdown",
   "metadata": {},
   "source": [
    "Define a simple classifier (only a single scalar value)."
   ]
  },
  {
   "cell_type": "code",
   "execution_count": 7,
   "metadata": {},
   "outputs": [],
   "source": [
    "c = torch.nn.Parameter(torch.tensor([0.3]),requires_grad=True)"
   ]
  },
  {
   "cell_type": "markdown",
   "metadata": {},
   "source": [
    "Train classifier"
   ]
  },
  {
   "cell_type": "code",
   "execution_count": 8,
   "metadata": {},
   "outputs": [
    {
     "name": "stdout",
     "output_type": "stream",
     "text": [
      "0\t c = 0.30310002\t L = 7839.20214844\n",
      "100\t c = 0.35434252\t L = 7757.23095703\n",
      "200\t c = 0.35456723\t L = 7757.23046875\n",
      "300\t c = 0.35456806\t L = 7757.22998047\n",
      "400\t c = 0.35456806\t L = 7757.22998047\n",
      "500\t c = 0.35456806\t L = 7757.22998047\n",
      "600\t c = 0.35456806\t L = 7757.22998047\n",
      "700\t c = 0.35456806\t L = 7757.22998047\n",
      "800\t c = 0.35456806\t L = 7757.22998047\n",
      "900\t c = 0.35456806\t L = 7757.22998047\n"
     ]
    }
   ],
   "source": [
    "optimizer = torch.optim.SGD([c], lr=0.000001)\n",
    "\n",
    "loss_values = []\n",
    "for epoch in range(1000):\n",
    "    optimizer.zero_grad()\n",
    "    loss_value = -(c.log() * loss(th_train, 0).sum() + (torch.ones_like(c)-c).log() * loss(th_train,1).sum())\n",
    "    loss_values.append(loss_value)\n",
    "    loss_value.backward()\n",
    "    optimizer.step()\n",
    "    if epoch%100==0:\n",
    "        print(f\"{epoch}\\t c = {c.item():.8f}\\t L = {loss_value.item():.8f}\")"
   ]
  },
  {
   "cell_type": "code",
   "execution_count": 9,
   "metadata": {},
   "outputs": [
    {
     "data": {
      "image/png": "[encoded data removed]",
      "text/plain": [
       "<Figure size 640x480 with 1 Axes>"
      ]
     },
     "metadata": {},
     "output_type": "display_data"
    }
   ],
   "source": [
    "c_ls = torch.linspace(0, 1, 500)\n",
    "result = -(torch.log(c_ls) * loss(th_train, 0).sum() + torch.log(1-c_ls) * loss(th_train, 1).sum())\n",
    "\n",
    "with mpl.rc_context(fname=\"loss_calibration/.matplotlibrc\"):\n",
    "    plt.title('Loss curve')\n",
    "    plt.plot(c_ls.numpy(), result.numpy(), color='#1E88E5', label='loss curve')\n",
    "    plt.xlabel('c'); plt.ylabel('loss')\n",
    "    plt.scatter(c_ls[torch.argmin(result)].numpy(), torch.min(result).numpy(), s=30,label='c (min)')\n",
    "    plt.scatter(c.detach().numpy(), -(torch.log(c.detach()) * loss(th_train, 0).sum() + torch.log(1-c.detach()) * loss(th_train, 1).sum()).numpy(), color='#EC400E', s=30, label='c (trained)')\n",
    "    plt.legend()\n",
    "    #plt.savefig('figures/loss_curve.pdf')\n",
    "\n"
   ]
  },
  {
   "cell_type": "markdown",
   "metadata": {},
   "source": [
    "#### Michaels Test"
   ]
  },
  {
   "cell_type": "code",
   "execution_count": 10,
   "metadata": {},
   "outputs": [
    {
     "data": {
      "image/png": "[encoded data removed]",
      "text/plain": [
       "<Figure size 432x288 with 1 Axes>"
      ]
     },
     "metadata": {
      "needs_background": "light"
     },
     "output_type": "display_data"
    },
    {
     "data": {
      "text/plain": [
       "(0.1818181872367859, 0.18181818181818182)"
      ]
     },
     "execution_count": 10,
     "metadata": {},
     "output_type": "execute_result"
    }
   ],
   "source": [
    "# assume constant loss + threshold cutting space in half\n",
    "def michael_test():\n",
    "    c = torch.linspace(0, 1, 100)\n",
    "    result = torch.log(c) * 0.2 + torch.log(1-c) * 0.9\n",
    "    plt.plot(c.numpy(), result.numpy()); plt.show()\n",
    "    return c[torch.argmax(result)].item(), 0.2 / 1.1\n",
    "michael_test()"
   ]
  },
  {
   "cell_type": "code",
   "execution_count": 11,
   "metadata": {},
   "outputs": [],
   "source": [
    "# check whether it converges to ratio of posterios"
   ]
  },
  {
   "cell_type": "markdown",
   "metadata": {},
   "source": [
    "#### Test Integration\n",
    "Try to understand what the classifier converges to"
   ]
  },
  {
   "cell_type": "code",
   "execution_count": 12,
   "metadata": {},
   "outputs": [
    {
     "data": {
      "image/png": "[encoded data removed]",
      "text/plain": [
       "<Figure size 432x288 with 1 Axes>"
      ]
     },
     "metadata": {
      "needs_background": "light"
     },
     "output_type": "display_data"
    }
   ],
   "source": [
    "def loss_predict_smaller(th):\n",
    "    return dist.log_prob(torch.as_tensor(th)).exp()*loss(th,0)\n",
    "plt.plot(thetas, loss_predict_smaller(thetas))\n",
    "i1 = loss_predict_smaller(thetas).sum()"
   ]
  },
  {
   "cell_type": "code",
   "execution_count": 13,
   "metadata": {},
   "outputs": [
    {
     "data": {
      "image/png": "[encoded data removed]",
      "text/plain": [
       "<Figure size 432x288 with 1 Axes>"
      ]
     },
     "metadata": {
      "needs_background": "light"
     },
     "output_type": "display_data"
    }
   ],
   "source": [
    "def loss_predict_larger(th):\n",
    "    return dist.log_prob(torch.as_tensor(th)).exp()*loss(th,1)\n",
    "plt.plot(thetas, loss_predict_larger(thetas))\n",
    "i2 = loss_predict_larger(thetas).sum()"
   ]
  },
  {
   "cell_type": "code",
   "execution_count": 14,
   "metadata": {},
   "outputs": [
    {
     "data": {
      "text/plain": [
       "tensor(0.3462)"
      ]
     },
     "execution_count": 14,
     "metadata": {},
     "output_type": "execute_result"
    }
   ],
   "source": [
    "i1/(i1+i2)"
   ]
  },
  {
   "cell_type": "markdown",
   "metadata": {},
   "source": [
    "### Classifier with input"
   ]
  },
  {
   "cell_type": "markdown",
   "metadata": {},
   "source": [
    "- define 1D examples (power plant?)\n",
    "    - uniform prior\n",
    "    - sample from prior\n",
    "    - simulator: given some theta, provides an observation -- what is theta, what is obs here?\n",
    "- train classifier with prior predictives\n",
    "- check convergence of classifier\n"
   ]
  },
  {
   "cell_type": "markdown",
   "metadata": {},
   "source": [
    "Define prior and simulator"
   ]
  },
  {
   "cell_type": "code",
   "execution_count": 15,
   "metadata": {},
   "outputs": [],
   "source": [
    "n = 50000 \n",
    "\n",
    "prior = BoxUniform([0.0], [5.0,])\n",
    "\n",
    "def simulator(theta):\n",
    "    #return  10. + 0.5*(theta)*(5-theta)**4 + torch.randn(theta.shape) * 2.0 * theta\n",
    "    return 50 + 0.5*theta*(5-theta)**4 + torch.randn(theta.shape) *10#* (theta+3)"
   ]
  },
  {
   "cell_type": "code",
   "execution_count": 16,
   "metadata": {},
   "outputs": [
    {
     "data": {
      "image/png": "[encoded data removed]",
      "text/plain": [
       "<Figure size 432x288 with 1 Axes>"
      ]
     },
     "metadata": {
      "needs_background": "light"
     },
     "output_type": "display_data"
    }
   ],
   "source": [
    "thetas = torch.linspace(0,5, 5000)\n",
    "plt.plot(thetas, simulator(thetas)); plt.xlabel(r'$\\theta$'); plt.ylabel('x'); plt.title('joint')\n",
    "plt.show()"
   ]
  },
  {
   "cell_type": "markdown",
   "metadata": {},
   "source": [
    "Sample data $(\\theta, x) \\sim p(\\theta)p(x|\\theta)$"
   ]
  },
  {
   "cell_type": "code",
   "execution_count": 17,
   "metadata": {},
   "outputs": [],
   "source": [
    "N = 10000\n",
    "\n",
    "th_train = prior.sample((N,))\n",
    "x_train = simulator(th_train)\n",
    "\n",
    "d_train = ((th_train>threshold).float()*2-1)#.squeeze()  #labels ±1"
   ]
  },
  {
   "cell_type": "markdown",
   "metadata": {},
   "source": [
    "Define the loss"
   ]
  },
  {
   "cell_type": "code",
   "execution_count": 18,
   "metadata": {},
   "outputs": [],
   "source": [
    "threshold = 2.0\n",
    "bce_loss = BCELoss_classweighted(weights=[5,1],threshold=threshold)"
   ]
  },
  {
   "cell_type": "markdown",
   "metadata": {},
   "source": [
    "Sample data "
   ]
  },
  {
   "cell_type": "code",
   "execution_count": 34,
   "metadata": {},
   "outputs": [],
   "source": [
    "N = 10000\n",
    "th_train = prior.sample((N,))\n",
    "y_train = ((th_train>threshold).float()*2-1)#.squeeze()  #labels ±1"
   ]
  },
  {
   "cell_type": "code",
   "execution_count": 35,
   "metadata": {},
   "outputs": [
    {
     "data": {
      "text/plain": [
       "tensor(0.7738)"
      ]
     },
     "execution_count": 35,
     "metadata": {},
     "output_type": "execute_result"
    }
   ],
   "source": [
    "# classifier expected to converge to\n",
    "bce_loss(th_train, 1).sum() / (bce_loss(th_train, 0) + bce_loss(th_train, 1)).sum()"
   ]
  },
  {
   "cell_type": "markdown",
   "metadata": {},
   "source": [
    "Define a simple NN as classifier."
   ]
  },
  {
   "cell_type": "code",
   "execution_count": 36,
   "metadata": {},
   "outputs": [],
   "source": [
    "class NeuralNet(nn.Module):\n",
    "    def __init__(self, input_dim, hidden_dim, output_dim):\n",
    "        super(NeuralNet, self).__init__()\n",
    "        # Linear function\n",
    "        self.fc1 = nn.Linear(input_dim, hidden_dim) \n",
    "\n",
    "        # Non-linearity\n",
    "        self.sigmoid = nn.Sigmoid()\n",
    "\n",
    "        # Linear function (readout)\n",
    "        self.fc2 = nn.Linear(hidden_dim, output_dim)  \n",
    "\n",
    "    def forward(self, x):\n",
    "        out = self.fc1(x)\n",
    "        out = self.sigmoid(out)\n",
    "        out = self.fc2(out)\n",
    "        out = self.sigmoid(out) # output probability of belonging to class -1\n",
    "        return out"
   ]
  },
  {
   "cell_type": "markdown",
   "metadata": {},
   "source": [
    "Define custom loss"
   ]
  },
  {
   "cell_type": "code",
   "execution_count": 37,
   "metadata": {},
   "outputs": [],
   "source": [
    "def BCELoss_classweighted_2(weights):\n",
    "    \n",
    "    def loss(prediction, target):\n",
    "        prediction = torch.clamp(prediction,min=1e-7,max=1-1e-7)\n",
    "        bce = - target * torch.log(prediction) * weights[0] - (1 - target) * torch.log(1 - prediction) * weights[1]\n",
    "        return torch.mean(bce)\n",
    "    \n",
    "    return loss"
   ]
  },
  {
   "cell_type": "markdown",
   "metadata": {},
   "source": [
    "Train classifier"
   ]
  },
  {
   "cell_type": "code",
   "execution_count": 38,
   "metadata": {},
   "outputs": [
    {
     "name": "stdout",
     "output_type": "stream",
     "text": [
      "0\t c = 0.55473238\t L = 0.67511737\n",
      "10\t c = 0.55485481\t L = 0.67505956\n",
      "20\t c = 0.55497706\t L = 0.67500180\n",
      "30\t c = 0.55509913\t L = 0.67494422\n",
      "40\t c = 0.55522096\t L = 0.67488676\n",
      "50\t c = 0.55534256\t L = 0.67482942\n",
      "60\t c = 0.55546403\t L = 0.67477220\n",
      "70\t c = 0.55558509\t L = 0.67471510\n",
      "80\t c = 0.55570626\t L = 0.67465806\n",
      "90\t c = 0.55582702\t L = 0.67460126\n",
      "100\t c = 0.55594760\t L = 0.67454457\n",
      "110\t c = 0.55606800\t L = 0.67448795\n",
      "120\t c = 0.55618823\t L = 0.67443144\n",
      "130\t c = 0.55630833\t L = 0.67437506\n",
      "140\t c = 0.55642802\t L = 0.67431873\n",
      "150\t c = 0.55654764\t L = 0.67426276\n",
      "160\t c = 0.55666703\t L = 0.67420673\n",
      "170\t c = 0.55678630\t L = 0.67415082\n",
      "180\t c = 0.55690515\t L = 0.67409509\n",
      "190\t c = 0.55702400\t L = 0.67403942\n",
      "200\t c = 0.55714262\t L = 0.67398387\n",
      "210\t c = 0.55726111\t L = 0.67392838\n",
      "220\t c = 0.55737931\t L = 0.67387307\n",
      "230\t c = 0.55749732\t L = 0.67381799\n",
      "240\t c = 0.55761510\t L = 0.67376292\n",
      "250\t c = 0.55773270\t L = 0.67370802\n",
      "260\t c = 0.55785012\t L = 0.67365324\n",
      "270\t c = 0.55796736\t L = 0.67359841\n",
      "280\t c = 0.55808443\t L = 0.67354387\n",
      "290\t c = 0.55820119\t L = 0.67348945\n",
      "300\t c = 0.55831790\t L = 0.67343503\n",
      "310\t c = 0.55843425\t L = 0.67338079\n",
      "320\t c = 0.55855042\t L = 0.67332667\n",
      "330\t c = 0.55866659\t L = 0.67327255\n",
      "340\t c = 0.55878240\t L = 0.67321873\n",
      "350\t c = 0.55889797\t L = 0.67316496\n",
      "360\t c = 0.55901349\t L = 0.67311114\n",
      "370\t c = 0.55912876\t L = 0.67305768\n",
      "380\t c = 0.55924386\t L = 0.67300421\n",
      "390\t c = 0.55935878\t L = 0.67295074\n",
      "400\t c = 0.55947351\t L = 0.67289758\n",
      "410\t c = 0.55958802\t L = 0.67284441\n",
      "420\t c = 0.55970222\t L = 0.67279142\n",
      "430\t c = 0.55981636\t L = 0.67273843\n",
      "440\t c = 0.55993044\t L = 0.67268556\n",
      "450\t c = 0.56004405\t L = 0.67263293\n",
      "460\t c = 0.56015760\t L = 0.67258030\n",
      "470\t c = 0.56027091\t L = 0.67252785\n",
      "480\t c = 0.56038415\t L = 0.67247552\n",
      "490\t c = 0.56049705\t L = 0.67242324\n",
      "500\t c = 0.56060982\t L = 0.67237109\n",
      "510\t c = 0.56072247\t L = 0.67231905\n",
      "520\t c = 0.56083488\t L = 0.67226708\n",
      "530\t c = 0.56094712\t L = 0.67221522\n",
      "540\t c = 0.56105906\t L = 0.67216355\n",
      "550\t c = 0.56117094\t L = 0.67211199\n",
      "560\t c = 0.56128258\t L = 0.67206043\n",
      "570\t c = 0.56139410\t L = 0.67200893\n",
      "580\t c = 0.56150526\t L = 0.67195761\n",
      "590\t c = 0.56161648\t L = 0.67190647\n",
      "600\t c = 0.56172740\t L = 0.67185533\n",
      "610\t c = 0.56183815\t L = 0.67180437\n",
      "620\t c = 0.56194866\t L = 0.67175347\n",
      "630\t c = 0.56205899\t L = 0.67170268\n",
      "640\t c = 0.56216925\t L = 0.67165208\n",
      "650\t c = 0.56227916\t L = 0.67160141\n",
      "660\t c = 0.56238902\t L = 0.67155087\n",
      "670\t c = 0.56249857\t L = 0.67150056\n",
      "680\t c = 0.56260812\t L = 0.67145014\n",
      "690\t c = 0.56271726\t L = 0.67140007\n",
      "700\t c = 0.56282640\t L = 0.67135006\n",
      "710\t c = 0.56293523\t L = 0.67129999\n",
      "720\t c = 0.56304401\t L = 0.67125010\n",
      "730\t c = 0.56315261\t L = 0.67120039\n",
      "740\t c = 0.56326091\t L = 0.67115062\n",
      "750\t c = 0.56336910\t L = 0.67110109\n",
      "760\t c = 0.56347704\t L = 0.67105162\n",
      "770\t c = 0.56358480\t L = 0.67100221\n",
      "780\t c = 0.56369245\t L = 0.67095298\n",
      "790\t c = 0.56379986\t L = 0.67090380\n",
      "800\t c = 0.56390721\t L = 0.67085463\n",
      "810\t c = 0.56401420\t L = 0.67080563\n",
      "820\t c = 0.56412113\t L = 0.67075676\n",
      "830\t c = 0.56422794\t L = 0.67070794\n",
      "840\t c = 0.56433451\t L = 0.67065918\n",
      "850\t c = 0.56444079\t L = 0.67061055\n",
      "860\t c = 0.56454700\t L = 0.67056203\n",
      "870\t c = 0.56465310\t L = 0.67051369\n",
      "880\t c = 0.56475890\t L = 0.67046535\n",
      "890\t c = 0.56486458\t L = 0.67041713\n",
      "900\t c = 0.56497008\t L = 0.67036891\n",
      "910\t c = 0.56507534\t L = 0.67032087\n",
      "920\t c = 0.56518054\t L = 0.67027301\n",
      "930\t c = 0.56528544\t L = 0.67022514\n",
      "940\t c = 0.56539029\t L = 0.67017734\n",
      "950\t c = 0.56549489\t L = 0.67012972\n",
      "960\t c = 0.56559938\t L = 0.67008215\n",
      "970\t c = 0.56570369\t L = 0.67003465\n",
      "980\t c = 0.56580764\t L = 0.66998714\n",
      "990\t c = 0.56591153\t L = 0.66993999\n"
     ]
    }
   ],
   "source": [
    "clf = NeuralNet(1, 16, 1)\n",
    "\n",
    "epochs = 1000\n",
    "optimizer = torch.optim.SGD(clf.parameters(), lr=0.0001)\n",
    "criterion = torch.nn.BCELoss()#BCELoss_classweighted_2(weights=[bce_loss(th_train, 0).sum(), bce_loss(th_train, 1).sum()])\n",
    "\n",
    "loss_values = []\n",
    "for epoch in range(epochs):\n",
    "    optimizer.zero_grad()\n",
    "    predictions = clf(th_train)\n",
    "    loss_value = bce_loss(th_train, predictions)\n",
    "    loss_value = criterion(predictions, (y_train+1)/2)\n",
    "    #loss_value = -(predictions.log() * bce_loss(th_train,0) + \\\n",
    "    #    (torch.ones_like(predictions)-predictions).log() * bce_loss(th_train,1)).sum()\n",
    "    with torch.no_grad():\n",
    "        loss_values.append(loss_value.item())\n",
    "\n",
    "    loss_value.backward()\n",
    "    optimizer.step()\n",
    "    if epoch%10==0:\n",
    "        print(f\"{epoch}\\t c = {predictions.mean():.8f}\\t L = {loss_value.item():.8f}\")#, end='\\r')"
   ]
  },
  {
   "cell_type": "code",
   "execution_count": 40,
   "metadata": {},
   "outputs": [
    {
     "data": {
      "image/png": "[encoded data removed]",
      "text/plain": [
       "<Figure size 432x288 with 1 Axes>"
      ]
     },
     "metadata": {
      "needs_background": "light"
     },
     "output_type": "display_data"
    }
   ],
   "source": [
    "plt.plot(torch.arange(epochs).detach().numpy(), loss_values)\n",
    "plt.title('Loss curve')\n",
    "plt.ylabel('loss'); plt.xlabel('epochs')\n",
    "plt.show()"
   ]
  },
  {
   "cell_type": "code",
   "execution_count": null,
   "metadata": {},
   "outputs": [],
   "source": [
    "# is the mean prediction a good indicator for c? "
   ]
  },
  {
   "cell_type": "code",
   "execution_count": 46,
   "metadata": {},
   "outputs": [
    {
     "data": {
      "image/png": "[encoded data removed]",
      "text/plain": [
       "<Figure size 1080x288 with 2 Axes>"
      ]
     },
     "metadata": {
      "needs_background": "light"
     },
     "output_type": "display_data"
    }
   ],
   "source": [
    "plt.figure(figsize=(15,4))\n",
    "plt.subplot(1,2,1)\n",
    "plt.title(r'histogram of $\\theta_{train}$')\n",
    "plt.hist(th_train[y_train==1].numpy(), label='class 1', weights=(torch.ones_like(th_train[y_train==1])/th_train.shape[0]).numpy())\n",
    "plt.hist(th_train[y_train==-1].numpy(), label='class -1', weights=(torch.ones_like(th_train[y_train==-1])/th_train.shape[0]).numpy())\n",
    "plt.legend()\n",
    "\n",
    "plt.subplot(1,2,2)\n",
    "# hist with counts corrected by loss\n",
    "plt.title(r'histogram of $\\theta_{train}$, reweighted by loss')\n",
    "plt.hist(th_train[y_train==1].numpy(), label='class 1', weights=(torch.ones_like(th_train[y_train==1])*int(bce_loss(th_train[y_train==1], 0).sum())/th_train.shape[0]).numpy())\n",
    "plt.hist(th_train[y_train==-1].numpy(), label='class -1', weights=(torch.ones_like(th_train[y_train==-1])*int(bce_loss(th_train[y_train==-1], 1).sum())/th_train.shape[0]).numpy())\n",
    "\n",
    "plt.legend()\n",
    "plt.show()"
   ]
  },
  {
   "cell_type": "markdown",
   "metadata": {},
   "source": [
    "#### Compare to classical sbi"
   ]
  },
  {
   "cell_type": "code",
   "execution_count": null,
   "metadata": {},
   "outputs": [],
   "source": []
  }
 ],
 "metadata": {
  "interpreter": {
   "hash": "06960cd18a53001e07e7b62cc42eb3f51084fa348611365b68962d25c7d940d1"
  },
  "kernelspec": {
   "display_name": "Python 3.9.7 ('mthesis')",
   "language": "python",
   "name": "python3"
  },
  "language_info": {
   "codemirror_mode": {
    "name": "ipython",
    "version": 3
   },
   "file_extension": ".py",
   "mimetype": "text/x-python",
   "name": "python",
   "nbconvert_exporter": "python",
   "pygments_lexer": "ipython3",
   "version": "3.9.7"
  },
  "orig_nbformat": 4
 },
 "nbformat": 4,
 "nbformat_minor": 2
}
