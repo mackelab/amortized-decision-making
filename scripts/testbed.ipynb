{
 "cells": [
  {
   "cell_type": "code",
   "execution_count": 1,
   "metadata": {},
   "outputs": [],
   "source": [
    "%load_ext autoreload\n",
    "%autoreload 2"
   ]
  },
  {
   "cell_type": "code",
   "execution_count": 2,
   "metadata": {},
   "outputs": [],
   "source": [
    "import torch"
   ]
  },
  {
   "cell_type": "code",
   "execution_count": 3,
   "metadata": {},
   "outputs": [],
   "source": [
    "from loss_cal.costs import RevGaussCost, StepCost_weighted\n",
    "from loss_cal.actions import UniformAction, CategoricalAction"
   ]
  },
  {
   "cell_type": "code",
   "execution_count": 28,
   "metadata": {},
   "outputs": [],
   "source": [
    "cost_fn1 = RevGaussCost(parameter_range=10)\n",
    "cost_fn2 = StepCost_weighted([1,2], threshold=0.5)"
   ]
  },
  {
   "cell_type": "code",
   "execution_count": 29,
   "metadata": {},
   "outputs": [],
   "source": [
    "th = torch.arange(3).unsqueeze(1)\n",
    "acs = torch.zeros((3)).unsqueeze(1)"
   ]
  },
  {
   "cell_type": "code",
   "execution_count": 3,
   "metadata": {},
   "outputs": [
    {
     "data": {
      "text/plain": [
       "(torch.Size([2, 1]), torch.Size([2, 1]))"
      ]
     },
     "execution_count": 3,
     "metadata": {},
     "output_type": "execute_result"
    }
   ],
   "source": [
    "UniformAction(0,5).sample(2).shape, CategoricalAction(2, None).sample(2).shape"
   ]
  },
  {
   "cell_type": "code",
   "execution_count": 24,
   "metadata": {},
   "outputs": [
    {
     "data": {
      "text/plain": [
       "tensor([[0.0000],\n",
       "        [0.8946],\n",
       "        [1.0000]])"
      ]
     },
     "execution_count": 24,
     "metadata": {},
     "output_type": "execute_result"
    }
   ],
   "source": [
    "cost_fn1(th, acs)"
   ]
  },
  {
   "cell_type": "code",
   "execution_count": 13,
   "metadata": {},
   "outputs": [
    {
     "data": {
      "text/plain": [
       "tensor([[0.],\n",
       "        [1.],\n",
       "        [1.]])"
      ]
     },
     "execution_count": 13,
     "metadata": {},
     "output_type": "execute_result"
    }
   ],
   "source": [
    "cost_fn2(th, acs)"
   ]
  },
  {
   "cell_type": "code",
   "execution_count": 14,
   "metadata": {},
   "outputs": [],
   "source": [
    "from loss_cal.tasks.task import BenchmarkTask\n"
   ]
  },
  {
   "cell_type": "code",
   "execution_count": 20,
   "metadata": {},
   "outputs": [
    {
     "data": {
      "text/plain": [
       "{'loc': tensor([-0.9163, -2.0794]), 'scale': tensor([0.5000, 0.2000])}"
      ]
     },
     "execution_count": 20,
     "metadata": {},
     "output_type": "execute_result"
    }
   ],
   "source": [
    "sir = BenchmarkTask(name=\"sir\", action_type=\"binary\")\n",
    "\n",
    "sir.prior_params"
   ]
  },
  {
   "cell_type": "code",
   "execution_count": 13,
   "metadata": {},
   "outputs": [
    {
     "data": {
      "text/plain": [
       "(tensor([[0.5319, 0.1150],\n",
       "         [0.5836, 0.0999],\n",
       "         [0.9488, 0.1182],\n",
       "         [0.4671, 0.0999],\n",
       "         [0.6658, 0.0931],\n",
       "         [0.6905, 0.1102],\n",
       "         [0.4813, 0.1004],\n",
       "         [0.5772, 0.1780],\n",
       "         [0.5179, 0.1295],\n",
       "         [0.2862, 0.1780]]),\n",
       " tensor([[  0.,   1., 404., 148.,  27.,   0.,   0.,   0.,   0.,   0.],\n",
       "         [  0.,   3., 515., 112.,  19.,   4.,   0.,   0.,   0.,   0.],\n",
       "         [  0., 496., 123.,  24.,   3.,   0.,   0.,   0.,   0.,   0.],\n",
       "         [  0.,   1., 207., 294.,  62.,  13.,   2.,   0.,   0.,   1.],\n",
       "         [  0.,  16., 401.,  79.,  20.,   6.,   0.,   1.,   0.,   0.],\n",
       "         [  0.,  13., 357.,  50.,   9.,   0.,   0.,   0.,   0.,   0.],\n",
       "         [  0.,   1., 243., 269.,  58.,   8.,   2.,   0.,   0.,   0.],\n",
       "         [  0.,   0., 282.,  64.,   7.,   0.,   1.,   0.,   0.,   0.],\n",
       "         [  0.,   0., 266., 158.,  17.,   3.,   1.,   0.,   0.,   0.],\n",
       "         [  0.,   0.,   0.,   0.,   2.,   7.,  28.,  71.,  49.,  21.]]),\n",
       " tensor([[0.2942, 0.1189],\n",
       "         [0.4900, 0.1659],\n",
       "         [0.2365, 0.1096],\n",
       "         [0.3891, 0.0861],\n",
       "         [0.3087, 0.1312],\n",
       "         [0.3888, 0.1297],\n",
       "         [0.4919, 0.1163],\n",
       "         [0.1868, 0.1432],\n",
       "         [0.3049, 0.1589],\n",
       "         [0.5574, 0.1439]]),\n",
       " tensor([[  0.,   0.,   2.,   4.,  99., 216.,  95.,  21.,   2.,   1.],\n",
       "         [  0.,   0.,  52., 223.,  33.,   2.,   0.,   0.,   0.,   0.],\n",
       "         [  0.,   0.,   0.,   0.,   1.,  46., 144., 152.,  59.,  20.],\n",
       "         [  0.,   0.,  26., 478., 165.,  46.,   7.,   2.,   0.,   0.],\n",
       "         [  0.,   0.,   1.,   3.,  93., 182.,  66.,  17.,   3.,   0.],\n",
       "         [  0.,   0.,   8., 231., 160.,  26.,   6.,   2.,   0.,   0.],\n",
       "         [  0.,   0., 234., 223.,  29.,   6.,   0.,   0.,   0.,   0.],\n",
       "         [  0.,   0.,   0.,   0.,   0.,   0.,   0.,   0.,   0.,   0.],\n",
       "         [  0.,   0.,   0.,   3.,  20., 104., 115.,  32.,   7.,   2.],\n",
       "         [  0.,   1., 364., 103.,  11.,   1.,   0.,   0.,   0.,   0.]]),\n",
       " tensor([[0.2808, 0.0979],\n",
       "         [0.2212, 0.1521],\n",
       "         [0.8249, 0.1666],\n",
       "         [0.1919, 0.1510],\n",
       "         [0.5766, 0.1220],\n",
       "         [0.3219, 0.0758],\n",
       "         [0.2573, 0.1090],\n",
       "         [0.3369, 0.1262],\n",
       "         [0.9101, 0.0927],\n",
       "         [0.4030, 0.1160]]),\n",
       " tensor([[  0.,   0.,   1.,  10., 145., 256.,  98.,  30.,   7.,   2.],\n",
       "         [  0.,   0.,   0.,   0.,   1.,   0.,   0.,   3.,  15.,  37.],\n",
       "         [  0.,  57., 140.,   9.,   2.,   0.,   0.,   0.,   0.,   0.],\n",
       "         [  0.,   0.,   0.,   0.,   0.,   0.,   0.,   0.,   1.,   0.],\n",
       "         [  0.,   4., 461., 100.,  12.,   1.,   0.,   0.,   0.,   0.],\n",
       "         [  0.,   0.,   5., 191., 350., 155.,  37.,  10.,   5.,   0.],\n",
       "         [  0.,   0.,   0.,   3.,  24., 170., 167.,  70.,  26.,   8.],\n",
       "         [  0.,   0.,   1.,  52., 280.,  95.,  27.,   4.,   1.,   0.],\n",
       "         [  0., 452., 198.,  38.,   6.,   1.,   0.,   0.,   0.,   0.],\n",
       "         [  0.,   0.,  26., 335., 140.,  25.,   5.,   0.,   0.,   0.]]))"
      ]
     },
     "execution_count": 13,
     "metadata": {},
     "output_type": "execute_result"
    }
   ],
   "source": [
    "class SIR(BenchmarkTask):\n",
    "    def __init__(self, action_type: str) -> None:\n",
    "        super().__init__(\"sir\", action_type)"
   ]
  },
  {
   "cell_type": "code",
   "execution_count": 35,
   "metadata": {},
   "outputs": [
    {
     "name": "stdout",
     "output_type": "stream",
     "text": [
      "$\\beta$=tensor([0.6148])\n",
      "$\\gamma$=tensor([0.1917])\n"
     ]
    }
   ],
   "source": [
    "for pname, pval in zip(sir.parameter_names, sir.get_true_parameters(n=1).T):\n",
    "    print(rf\"{pname}={pval}\")"
   ]
  },
  {
   "cell_type": "code",
   "execution_count": 27,
   "metadata": {},
   "outputs": [
    {
     "data": {
      "text/plain": [
       "['$\\\\beta$', '$\\\\gamma$']"
      ]
     },
     "execution_count": 27,
     "metadata": {},
     "output_type": "execute_result"
    }
   ],
   "source": []
  },
  {
   "cell_type": "code",
   "execution_count": 32,
   "metadata": {},
   "outputs": [
    {
     "data": {
      "text/plain": [
       "'$\\\\beta$'"
      ]
     },
     "execution_count": 32,
     "metadata": {},
     "output_type": "execute_result"
    }
   ],
   "source": [
    "sir._task.get_labels_parameters()[0]"
   ]
  },
  {
   "cell_type": "code",
   "execution_count": 43,
   "metadata": {},
   "outputs": [
    {
     "data": {
      "text/plain": [
       "'$\\\\beta$=0.6148 $\\\\gamma$=0.1917'"
      ]
     },
     "execution_count": 43,
     "metadata": {},
     "output_type": "execute_result"
    }
   ],
   "source": []
  },
  {
   "cell_type": "code",
   "execution_count": null,
   "metadata": {},
   "outputs": [],
   "source": [
    "torch.distributions.LogNormal().icdf()"
   ]
  }
 ],
 "metadata": {
  "kernelspec": {
   "display_name": "losscal-py310",
   "language": "python",
   "name": "python3"
  },
  "language_info": {
   "codemirror_mode": {
    "name": "ipython",
    "version": 3
   },
   "file_extension": ".py",
   "mimetype": "text/x-python",
   "name": "python",
   "nbconvert_exporter": "python",
   "pygments_lexer": "ipython3",
   "version": "3.10.12"
  },
  "orig_nbformat": 4
 },
 "nbformat": 4,
 "nbformat_minor": 2
}
